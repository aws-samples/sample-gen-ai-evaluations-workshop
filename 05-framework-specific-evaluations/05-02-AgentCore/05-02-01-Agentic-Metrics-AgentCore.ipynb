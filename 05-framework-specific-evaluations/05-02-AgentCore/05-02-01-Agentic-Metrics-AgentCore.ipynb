{
 "cells": [
  {
   "cell_type": "markdown",
   "id": "74e48259-2ee0-499e-af76-7eef988f897a",
   "metadata": {},
   "source": [
    "# Citysearch Agent deployed on Agentcore runtime\n",
    "In this notebook, we set recreate simple chat bot we built with Strands in 03-agentic-metrics, to be deployable with AgentCore Runtime.  "
   ]
  },
  {
   "cell_type": "markdown",
   "id": "1a4fc1c9-f1c9-45ce-a69d-145fb9fefb3b",
   "metadata": {},
   "source": [
    "## 1) Set up dependances"
   ]
  },
  {
   "cell_type": "code",
   "execution_count": 1,
   "id": "9a0e1623-9680-424d-9b92-697bf96cc61e",
   "metadata": {},
   "outputs": [
    {
     "name": "stdout",
     "output_type": "stream",
     "text": [
      "Requirement already satisfied: strands-agents in /Users/skoppar/workspace/sample-gen-ai-evaluations-workshop/.venv/lib/python3.12/site-packages (1.8.0)\n",
      "Requirement already satisfied: strands-agents-tools in /Users/skoppar/workspace/sample-gen-ai-evaluations-workshop/.venv/lib/python3.12/site-packages (0.2.7)\n",
      "Requirement already satisfied: pandas in /Users/skoppar/workspace/sample-gen-ai-evaluations-workshop/.venv/lib/python3.12/site-packages (2.3.2)\n",
      "Requirement already satisfied: bedrock_agentcore_starter_toolkit in /Users/skoppar/workspace/sample-gen-ai-evaluations-workshop/.venv/lib/python3.12/site-packages (0.1.10)\n",
      "Requirement already satisfied: boto3<2.0.0,>=1.26.0 in /Users/skoppar/workspace/sample-gen-ai-evaluations-workshop/.venv/lib/python3.12/site-packages (from strands-agents) (1.40.30)\n",
      "Requirement already satisfied: botocore<2.0.0,>=1.29.0 in /Users/skoppar/workspace/sample-gen-ai-evaluations-workshop/.venv/lib/python3.12/site-packages (from strands-agents) (1.40.30)\n",
      "Requirement already satisfied: docstring-parser<1.0,>=0.15 in /Users/skoppar/workspace/sample-gen-ai-evaluations-workshop/.venv/lib/python3.12/site-packages (from strands-agents) (0.17.0)\n",
      "Requirement already satisfied: mcp<2.0.0,>=1.11.0 in /Users/skoppar/workspace/sample-gen-ai-evaluations-workshop/.venv/lib/python3.12/site-packages (from strands-agents) (1.14.0)\n",
      "Requirement already satisfied: opentelemetry-api<2.0.0,>=1.30.0 in /Users/skoppar/workspace/sample-gen-ai-evaluations-workshop/.venv/lib/python3.12/site-packages (from strands-agents) (1.37.0)\n",
      "Requirement already satisfied: opentelemetry-instrumentation-threading<1.00b0,>=0.51b0 in /Users/skoppar/workspace/sample-gen-ai-evaluations-workshop/.venv/lib/python3.12/site-packages (from strands-agents) (0.58b0)\n",
      "Requirement already satisfied: opentelemetry-sdk<2.0.0,>=1.30.0 in /Users/skoppar/workspace/sample-gen-ai-evaluations-workshop/.venv/lib/python3.12/site-packages (from strands-agents) (1.37.0)\n",
      "Requirement already satisfied: pydantic<3.0.0,>=2.4.0 in /Users/skoppar/workspace/sample-gen-ai-evaluations-workshop/.venv/lib/python3.12/site-packages (from strands-agents) (2.11.9)\n",
      "Requirement already satisfied: typing-extensions<5.0.0,>=4.13.2 in /Users/skoppar/workspace/sample-gen-ai-evaluations-workshop/.venv/lib/python3.12/site-packages (from strands-agents) (4.15.0)\n",
      "Requirement already satisfied: watchdog<7.0.0,>=6.0.0 in /Users/skoppar/workspace/sample-gen-ai-evaluations-workshop/.venv/lib/python3.12/site-packages (from strands-agents) (6.0.0)\n",
      "Requirement already satisfied: aiohttp<4.0.0,>=3.8.0 in /Users/skoppar/workspace/sample-gen-ai-evaluations-workshop/.venv/lib/python3.12/site-packages (from strands-agents-tools) (3.12.15)\n",
      "Requirement already satisfied: aws-requests-auth<0.5.0,>=0.4.3 in /Users/skoppar/workspace/sample-gen-ai-evaluations-workshop/.venv/lib/python3.12/site-packages (from strands-agents-tools) (0.4.3)\n",
      "Requirement already satisfied: dill<0.5.0,>=0.4.0 in /Users/skoppar/workspace/sample-gen-ai-evaluations-workshop/.venv/lib/python3.12/site-packages (from strands-agents-tools) (0.4.0)\n",
      "Requirement already satisfied: markdownify<2.0.0,>=1.0.0 in /Users/skoppar/workspace/sample-gen-ai-evaluations-workshop/.venv/lib/python3.12/site-packages (from strands-agents-tools) (1.2.0)\n",
      "Requirement already satisfied: pillow<12.0.0,>=11.2.1 in /Users/skoppar/workspace/sample-gen-ai-evaluations-workshop/.venv/lib/python3.12/site-packages (from strands-agents-tools) (11.3.0)\n",
      "Requirement already satisfied: prompt-toolkit<4.0.0,>=3.0.51 in /Users/skoppar/workspace/sample-gen-ai-evaluations-workshop/.venv/lib/python3.12/site-packages (from strands-agents-tools) (3.0.52)\n",
      "Requirement already satisfied: pyjwt<3.0.0,>=2.10.1 in /Users/skoppar/workspace/sample-gen-ai-evaluations-workshop/.venv/lib/python3.12/site-packages (from strands-agents-tools) (2.10.1)\n",
      "Requirement already satisfied: readabilipy<1.0.0,>=0.2.0 in /Users/skoppar/workspace/sample-gen-ai-evaluations-workshop/.venv/lib/python3.12/site-packages (from strands-agents-tools) (0.3.0)\n",
      "Requirement already satisfied: requests<3.0.0,>=2.28.0 in /Users/skoppar/workspace/sample-gen-ai-evaluations-workshop/.venv/lib/python3.12/site-packages (from strands-agents-tools) (2.32.5)\n",
      "Requirement already satisfied: rich<15.0.0,>=14.0.0 in /Users/skoppar/workspace/sample-gen-ai-evaluations-workshop/.venv/lib/python3.12/site-packages (from strands-agents-tools) (14.1.0)\n",
      "Requirement already satisfied: slack-bolt<2.0.0,>=1.23.0 in /Users/skoppar/workspace/sample-gen-ai-evaluations-workshop/.venv/lib/python3.12/site-packages (from strands-agents-tools) (1.25.0)\n",
      "Requirement already satisfied: sympy<2.0.0,>=1.12.0 in /Users/skoppar/workspace/sample-gen-ai-evaluations-workshop/.venv/lib/python3.12/site-packages (from strands-agents-tools) (1.14.0)\n",
      "Requirement already satisfied: tenacity<10.0.0,>=9.1.2 in /Users/skoppar/workspace/sample-gen-ai-evaluations-workshop/.venv/lib/python3.12/site-packages (from strands-agents-tools) (9.1.2)\n",
      "Requirement already satisfied: numpy>=1.26.0 in /Users/skoppar/workspace/sample-gen-ai-evaluations-workshop/.venv/lib/python3.12/site-packages (from pandas) (2.3.3)\n",
      "Requirement already satisfied: python-dateutil>=2.8.2 in /Users/skoppar/workspace/sample-gen-ai-evaluations-workshop/.venv/lib/python3.12/site-packages (from pandas) (2.9.0.post0)\n",
      "Requirement already satisfied: pytz>=2020.1 in /Users/skoppar/workspace/sample-gen-ai-evaluations-workshop/.venv/lib/python3.12/site-packages (from pandas) (2025.2)\n",
      "Requirement already satisfied: tzdata>=2022.7 in /Users/skoppar/workspace/sample-gen-ai-evaluations-workshop/.venv/lib/python3.12/site-packages (from pandas) (2025.2)\n",
      "Requirement already satisfied: autopep8>=2.3.2 in /Users/skoppar/workspace/sample-gen-ai-evaluations-workshop/.venv/lib/python3.12/site-packages (from bedrock_agentcore_starter_toolkit) (2.3.2)\n",
      "Requirement already satisfied: bedrock-agentcore>=0.1.3 in /Users/skoppar/workspace/sample-gen-ai-evaluations-workshop/.venv/lib/python3.12/site-packages (from bedrock_agentcore_starter_toolkit) (0.1.3)\n",
      "Requirement already satisfied: httpx>=0.28.1 in /Users/skoppar/workspace/sample-gen-ai-evaluations-workshop/.venv/lib/python3.12/site-packages (from bedrock_agentcore_starter_toolkit) (0.28.1)\n",
      "Requirement already satisfied: jinja2>=3.1.6 in /Users/skoppar/workspace/sample-gen-ai-evaluations-workshop/.venv/lib/python3.12/site-packages (from bedrock_agentcore_starter_toolkit) (3.1.6)\n",
      "Requirement already satisfied: openapi-spec-validator>=0.7.2 in /Users/skoppar/workspace/sample-gen-ai-evaluations-workshop/.venv/lib/python3.12/site-packages (from bedrock_agentcore_starter_toolkit) (0.7.2)\n",
      "Requirement already satisfied: prance>=25.4.8.0 in /Users/skoppar/workspace/sample-gen-ai-evaluations-workshop/.venv/lib/python3.12/site-packages (from bedrock_agentcore_starter_toolkit) (25.4.8.0)\n",
      "Requirement already satisfied: py-openapi-schema-to-json-schema>=0.0.3 in /Users/skoppar/workspace/sample-gen-ai-evaluations-workshop/.venv/lib/python3.12/site-packages (from bedrock_agentcore_starter_toolkit) (0.0.3)\n",
      "Requirement already satisfied: pyyaml>=6.0.2 in /Users/skoppar/workspace/sample-gen-ai-evaluations-workshop/.venv/lib/python3.12/site-packages (from bedrock_agentcore_starter_toolkit) (6.0.2)\n",
      "Requirement already satisfied: questionary>=2.1.0 in /Users/skoppar/workspace/sample-gen-ai-evaluations-workshop/.venv/lib/python3.12/site-packages (from bedrock_agentcore_starter_toolkit) (2.1.1)\n",
      "Requirement already satisfied: ruamel-yaml>=0.18.14 in /Users/skoppar/workspace/sample-gen-ai-evaluations-workshop/.venv/lib/python3.12/site-packages (from bedrock_agentcore_starter_toolkit) (0.18.15)\n",
      "Requirement already satisfied: toml>=0.10.2 in /Users/skoppar/workspace/sample-gen-ai-evaluations-workshop/.venv/lib/python3.12/site-packages (from bedrock_agentcore_starter_toolkit) (0.10.2)\n",
      "Requirement already satisfied: typer>=0.16.0 in /Users/skoppar/workspace/sample-gen-ai-evaluations-workshop/.venv/lib/python3.12/site-packages (from bedrock_agentcore_starter_toolkit) (0.17.4)\n",
      "Requirement already satisfied: urllib3>=1.26.0 in /Users/skoppar/workspace/sample-gen-ai-evaluations-workshop/.venv/lib/python3.12/site-packages (from bedrock_agentcore_starter_toolkit) (2.5.0)\n",
      "Requirement already satisfied: uvicorn>=0.34.2 in /Users/skoppar/workspace/sample-gen-ai-evaluations-workshop/.venv/lib/python3.12/site-packages (from bedrock_agentcore_starter_toolkit) (0.35.0)\n",
      "Requirement already satisfied: aiohappyeyeballs>=2.5.0 in /Users/skoppar/workspace/sample-gen-ai-evaluations-workshop/.venv/lib/python3.12/site-packages (from aiohttp<4.0.0,>=3.8.0->strands-agents-tools) (2.6.1)\n",
      "Requirement already satisfied: aiosignal>=1.4.0 in /Users/skoppar/workspace/sample-gen-ai-evaluations-workshop/.venv/lib/python3.12/site-packages (from aiohttp<4.0.0,>=3.8.0->strands-agents-tools) (1.4.0)\n",
      "Requirement already satisfied: attrs>=17.3.0 in /Users/skoppar/workspace/sample-gen-ai-evaluations-workshop/.venv/lib/python3.12/site-packages (from aiohttp<4.0.0,>=3.8.0->strands-agents-tools) (25.3.0)\n",
      "Requirement already satisfied: frozenlist>=1.1.1 in /Users/skoppar/workspace/sample-gen-ai-evaluations-workshop/.venv/lib/python3.12/site-packages (from aiohttp<4.0.0,>=3.8.0->strands-agents-tools) (1.7.0)\n",
      "Requirement already satisfied: multidict<7.0,>=4.5 in /Users/skoppar/workspace/sample-gen-ai-evaluations-workshop/.venv/lib/python3.12/site-packages (from aiohttp<4.0.0,>=3.8.0->strands-agents-tools) (6.6.4)\n",
      "Requirement already satisfied: propcache>=0.2.0 in /Users/skoppar/workspace/sample-gen-ai-evaluations-workshop/.venv/lib/python3.12/site-packages (from aiohttp<4.0.0,>=3.8.0->strands-agents-tools) (0.3.2)\n",
      "Requirement already satisfied: yarl<2.0,>=1.17.0 in /Users/skoppar/workspace/sample-gen-ai-evaluations-workshop/.venv/lib/python3.12/site-packages (from aiohttp<4.0.0,>=3.8.0->strands-agents-tools) (1.20.1)\n",
      "Requirement already satisfied: pycodestyle>=2.12.0 in /Users/skoppar/workspace/sample-gen-ai-evaluations-workshop/.venv/lib/python3.12/site-packages (from autopep8>=2.3.2->bedrock_agentcore_starter_toolkit) (2.14.0)\n",
      "Requirement already satisfied: starlette>=0.46.2 in /Users/skoppar/workspace/sample-gen-ai-evaluations-workshop/.venv/lib/python3.12/site-packages (from bedrock-agentcore>=0.1.3->bedrock_agentcore_starter_toolkit) (0.48.0)\n",
      "Requirement already satisfied: jmespath<2.0.0,>=0.7.1 in /Users/skoppar/workspace/sample-gen-ai-evaluations-workshop/.venv/lib/python3.12/site-packages (from boto3<2.0.0,>=1.26.0->strands-agents) (1.0.1)\n",
      "Requirement already satisfied: s3transfer<0.15.0,>=0.14.0 in /Users/skoppar/workspace/sample-gen-ai-evaluations-workshop/.venv/lib/python3.12/site-packages (from boto3<2.0.0,>=1.26.0->strands-agents) (0.14.0)\n",
      "Requirement already satisfied: anyio in /Users/skoppar/workspace/sample-gen-ai-evaluations-workshop/.venv/lib/python3.12/site-packages (from httpx>=0.28.1->bedrock_agentcore_starter_toolkit) (4.10.0)\n",
      "Requirement already satisfied: certifi in /Users/skoppar/workspace/sample-gen-ai-evaluations-workshop/.venv/lib/python3.12/site-packages (from httpx>=0.28.1->bedrock_agentcore_starter_toolkit) (2025.8.3)\n",
      "Requirement already satisfied: httpcore==1.* in /Users/skoppar/workspace/sample-gen-ai-evaluations-workshop/.venv/lib/python3.12/site-packages (from httpx>=0.28.1->bedrock_agentcore_starter_toolkit) (1.0.9)\n",
      "Requirement already satisfied: idna in /Users/skoppar/workspace/sample-gen-ai-evaluations-workshop/.venv/lib/python3.12/site-packages (from httpx>=0.28.1->bedrock_agentcore_starter_toolkit) (3.10)\n",
      "Requirement already satisfied: h11>=0.16 in /Users/skoppar/workspace/sample-gen-ai-evaluations-workshop/.venv/lib/python3.12/site-packages (from httpcore==1.*->httpx>=0.28.1->bedrock_agentcore_starter_toolkit) (0.16.0)\n",
      "Requirement already satisfied: MarkupSafe>=2.0 in /Users/skoppar/workspace/sample-gen-ai-evaluations-workshop/.venv/lib/python3.12/site-packages (from jinja2>=3.1.6->bedrock_agentcore_starter_toolkit) (3.0.2)\n",
      "Requirement already satisfied: beautifulsoup4<5,>=4.9 in /Users/skoppar/workspace/sample-gen-ai-evaluations-workshop/.venv/lib/python3.12/site-packages (from markdownify<2.0.0,>=1.0.0->strands-agents-tools) (4.13.5)\n",
      "Requirement already satisfied: six<2,>=1.15 in /Users/skoppar/workspace/sample-gen-ai-evaluations-workshop/.venv/lib/python3.12/site-packages (from markdownify<2.0.0,>=1.0.0->strands-agents-tools) (1.17.0)\n",
      "Requirement already satisfied: httpx-sse>=0.4 in /Users/skoppar/workspace/sample-gen-ai-evaluations-workshop/.venv/lib/python3.12/site-packages (from mcp<2.0.0,>=1.11.0->strands-agents) (0.4.1)\n",
      "Requirement already satisfied: jsonschema>=4.20.0 in /Users/skoppar/workspace/sample-gen-ai-evaluations-workshop/.venv/lib/python3.12/site-packages (from mcp<2.0.0,>=1.11.0->strands-agents) (4.25.1)\n",
      "Requirement already satisfied: pydantic-settings>=2.5.2 in /Users/skoppar/workspace/sample-gen-ai-evaluations-workshop/.venv/lib/python3.12/site-packages (from mcp<2.0.0,>=1.11.0->strands-agents) (2.10.1)\n",
      "Requirement already satisfied: python-multipart>=0.0.9 in /Users/skoppar/workspace/sample-gen-ai-evaluations-workshop/.venv/lib/python3.12/site-packages (from mcp<2.0.0,>=1.11.0->strands-agents) (0.0.20)\n",
      "Requirement already satisfied: sse-starlette>=1.6.1 in /Users/skoppar/workspace/sample-gen-ai-evaluations-workshop/.venv/lib/python3.12/site-packages (from mcp<2.0.0,>=1.11.0->strands-agents) (3.0.2)\n",
      "Requirement already satisfied: jsonschema-path<0.4.0,>=0.3.1 in /Users/skoppar/workspace/sample-gen-ai-evaluations-workshop/.venv/lib/python3.12/site-packages (from openapi-spec-validator>=0.7.2->bedrock_agentcore_starter_toolkit) (0.3.4)\n",
      "Requirement already satisfied: lazy-object-proxy<2.0.0,>=1.7.1 in /Users/skoppar/workspace/sample-gen-ai-evaluations-workshop/.venv/lib/python3.12/site-packages (from openapi-spec-validator>=0.7.2->bedrock_agentcore_starter_toolkit) (1.12.0)\n",
      "Requirement already satisfied: openapi-schema-validator<0.7.0,>=0.6.0 in /Users/skoppar/workspace/sample-gen-ai-evaluations-workshop/.venv/lib/python3.12/site-packages (from openapi-spec-validator>=0.7.2->bedrock_agentcore_starter_toolkit) (0.6.3)\n",
      "Requirement already satisfied: importlib-metadata<8.8.0,>=6.0 in /Users/skoppar/workspace/sample-gen-ai-evaluations-workshop/.venv/lib/python3.12/site-packages (from opentelemetry-api<2.0.0,>=1.30.0->strands-agents) (8.7.0)\n",
      "Requirement already satisfied: opentelemetry-instrumentation==0.58b0 in /Users/skoppar/workspace/sample-gen-ai-evaluations-workshop/.venv/lib/python3.12/site-packages (from opentelemetry-instrumentation-threading<1.00b0,>=0.51b0->strands-agents) (0.58b0)\n",
      "Requirement already satisfied: wrapt<2.0.0,>=1.0.0 in /Users/skoppar/workspace/sample-gen-ai-evaluations-workshop/.venv/lib/python3.12/site-packages (from opentelemetry-instrumentation-threading<1.00b0,>=0.51b0->strands-agents) (1.17.3)\n",
      "Requirement already satisfied: opentelemetry-semantic-conventions==0.58b0 in /Users/skoppar/workspace/sample-gen-ai-evaluations-workshop/.venv/lib/python3.12/site-packages (from opentelemetry-instrumentation==0.58b0->opentelemetry-instrumentation-threading<1.00b0,>=0.51b0->strands-agents) (0.58b0)\n",
      "Requirement already satisfied: packaging>=18.0 in /Users/skoppar/workspace/sample-gen-ai-evaluations-workshop/.venv/lib/python3.12/site-packages (from opentelemetry-instrumentation==0.58b0->opentelemetry-instrumentation-threading<1.00b0,>=0.51b0->strands-agents) (25.0)\n",
      "Requirement already satisfied: chardet>=5.2 in /Users/skoppar/workspace/sample-gen-ai-evaluations-workshop/.venv/lib/python3.12/site-packages (from prance>=25.4.8.0->bedrock_agentcore_starter_toolkit) (5.2.0)\n",
      "Requirement already satisfied: wcwidth in /Users/skoppar/workspace/sample-gen-ai-evaluations-workshop/.venv/lib/python3.12/site-packages (from prompt-toolkit<4.0.0,>=3.0.51->strands-agents-tools) (0.2.13)\n",
      "Requirement already satisfied: annotated-types>=0.6.0 in /Users/skoppar/workspace/sample-gen-ai-evaluations-workshop/.venv/lib/python3.12/site-packages (from pydantic<3.0.0,>=2.4.0->strands-agents) (0.7.0)\n",
      "Requirement already satisfied: pydantic-core==2.33.2 in /Users/skoppar/workspace/sample-gen-ai-evaluations-workshop/.venv/lib/python3.12/site-packages (from pydantic<3.0.0,>=2.4.0->strands-agents) (2.33.2)\n",
      "Requirement already satisfied: typing-inspection>=0.4.0 in /Users/skoppar/workspace/sample-gen-ai-evaluations-workshop/.venv/lib/python3.12/site-packages (from pydantic<3.0.0,>=2.4.0->strands-agents) (0.4.1)\n",
      "Requirement already satisfied: html5lib in /Users/skoppar/workspace/sample-gen-ai-evaluations-workshop/.venv/lib/python3.12/site-packages (from readabilipy<1.0.0,>=0.2.0->strands-agents-tools) (1.1)\n",
      "Requirement already satisfied: lxml in /Users/skoppar/workspace/sample-gen-ai-evaluations-workshop/.venv/lib/python3.12/site-packages (from readabilipy<1.0.0,>=0.2.0->strands-agents-tools) (6.0.1)\n",
      "Requirement already satisfied: regex in /Users/skoppar/workspace/sample-gen-ai-evaluations-workshop/.venv/lib/python3.12/site-packages (from readabilipy<1.0.0,>=0.2.0->strands-agents-tools) (2025.9.1)\n",
      "Requirement already satisfied: charset_normalizer<4,>=2 in /Users/skoppar/workspace/sample-gen-ai-evaluations-workshop/.venv/lib/python3.12/site-packages (from requests<3.0.0,>=2.28.0->strands-agents-tools) (3.4.3)\n",
      "Requirement already satisfied: markdown-it-py>=2.2.0 in /Users/skoppar/workspace/sample-gen-ai-evaluations-workshop/.venv/lib/python3.12/site-packages (from rich<15.0.0,>=14.0.0->strands-agents-tools) (4.0.0)\n",
      "Requirement already satisfied: pygments<3.0.0,>=2.13.0 in /Users/skoppar/workspace/sample-gen-ai-evaluations-workshop/.venv/lib/python3.12/site-packages (from rich<15.0.0,>=14.0.0->strands-agents-tools) (2.19.2)\n",
      "Requirement already satisfied: ruamel.yaml.clib>=0.2.7 in /Users/skoppar/workspace/sample-gen-ai-evaluations-workshop/.venv/lib/python3.12/site-packages (from ruamel-yaml>=0.18.14->bedrock_agentcore_starter_toolkit) (0.2.12)\n",
      "Requirement already satisfied: slack_sdk<4,>=3.35.0 in /Users/skoppar/workspace/sample-gen-ai-evaluations-workshop/.venv/lib/python3.12/site-packages (from slack-bolt<2.0.0,>=1.23.0->strands-agents-tools) (3.36.0)\n",
      "Requirement already satisfied: mpmath<1.4,>=1.1.0 in /Users/skoppar/workspace/sample-gen-ai-evaluations-workshop/.venv/lib/python3.12/site-packages (from sympy<2.0.0,>=1.12.0->strands-agents-tools) (1.3.0)\n",
      "Requirement already satisfied: click>=8.0.0 in /Users/skoppar/workspace/sample-gen-ai-evaluations-workshop/.venv/lib/python3.12/site-packages (from typer>=0.16.0->bedrock_agentcore_starter_toolkit) (8.2.1)\n",
      "Requirement already satisfied: shellingham>=1.3.0 in /Users/skoppar/workspace/sample-gen-ai-evaluations-workshop/.venv/lib/python3.12/site-packages (from typer>=0.16.0->bedrock_agentcore_starter_toolkit) (1.5.4)\n",
      "Requirement already satisfied: sniffio>=1.1 in /Users/skoppar/workspace/sample-gen-ai-evaluations-workshop/.venv/lib/python3.12/site-packages (from anyio->httpx>=0.28.1->bedrock_agentcore_starter_toolkit) (1.3.1)\n",
      "Requirement already satisfied: soupsieve>1.2 in /Users/skoppar/workspace/sample-gen-ai-evaluations-workshop/.venv/lib/python3.12/site-packages (from beautifulsoup4<5,>=4.9->markdownify<2.0.0,>=1.0.0->strands-agents-tools) (2.8)\n",
      "Requirement already satisfied: zipp>=3.20 in /Users/skoppar/workspace/sample-gen-ai-evaluations-workshop/.venv/lib/python3.12/site-packages (from importlib-metadata<8.8.0,>=6.0->opentelemetry-api<2.0.0,>=1.30.0->strands-agents) (3.23.0)\n",
      "Requirement already satisfied: jsonschema-specifications>=2023.03.6 in /Users/skoppar/workspace/sample-gen-ai-evaluations-workshop/.venv/lib/python3.12/site-packages (from jsonschema>=4.20.0->mcp<2.0.0,>=1.11.0->strands-agents) (2025.9.1)\n",
      "Requirement already satisfied: referencing>=0.28.4 in /Users/skoppar/workspace/sample-gen-ai-evaluations-workshop/.venv/lib/python3.12/site-packages (from jsonschema>=4.20.0->mcp<2.0.0,>=1.11.0->strands-agents) (0.36.2)\n",
      "Requirement already satisfied: rpds-py>=0.7.1 in /Users/skoppar/workspace/sample-gen-ai-evaluations-workshop/.venv/lib/python3.12/site-packages (from jsonschema>=4.20.0->mcp<2.0.0,>=1.11.0->strands-agents) (0.27.1)\n",
      "Requirement already satisfied: pathable<0.5.0,>=0.4.1 in /Users/skoppar/workspace/sample-gen-ai-evaluations-workshop/.venv/lib/python3.12/site-packages (from jsonschema-path<0.4.0,>=0.3.1->openapi-spec-validator>=0.7.2->bedrock_agentcore_starter_toolkit) (0.4.4)\n",
      "Requirement already satisfied: mdurl~=0.1 in /Users/skoppar/workspace/sample-gen-ai-evaluations-workshop/.venv/lib/python3.12/site-packages (from markdown-it-py>=2.2.0->rich<15.0.0,>=14.0.0->strands-agents-tools) (0.1.2)\n",
      "Requirement already satisfied: rfc3339-validator in /Users/skoppar/workspace/sample-gen-ai-evaluations-workshop/.venv/lib/python3.12/site-packages (from openapi-schema-validator<0.7.0,>=0.6.0->openapi-spec-validator>=0.7.2->bedrock_agentcore_starter_toolkit) (0.1.4)\n",
      "Requirement already satisfied: python-dotenv>=0.21.0 in /Users/skoppar/workspace/sample-gen-ai-evaluations-workshop/.venv/lib/python3.12/site-packages (from pydantic-settings>=2.5.2->mcp<2.0.0,>=1.11.0->strands-agents) (1.1.1)\n",
      "Requirement already satisfied: webencodings in /Users/skoppar/workspace/sample-gen-ai-evaluations-workshop/.venv/lib/python3.12/site-packages (from html5lib->readabilipy<1.0.0,>=0.2.0->strands-agents-tools) (0.5.1)\n",
      "\n",
      "\u001b[1m[\u001b[0m\u001b[34;49mnotice\u001b[0m\u001b[1;39;49m]\u001b[0m\u001b[39;49m A new release of pip is available: \u001b[0m\u001b[31;49m24.0\u001b[0m\u001b[39;49m -> \u001b[0m\u001b[32;49m25.2\u001b[0m\n",
      "\u001b[1m[\u001b[0m\u001b[34;49mnotice\u001b[0m\u001b[1;39;49m]\u001b[0m\u001b[39;49m To update, run: \u001b[0m\u001b[32;49mpip install --upgrade pip\u001b[0m\n"
     ]
    }
   ],
   "source": [
    "# Install Strands Agents\n",
    "!pip install strands-agents strands-agents-tools pandas bedrock_agentcore_starter_toolkit"
   ]
  },
  {
   "cell_type": "markdown",
   "id": "2b925b66-680e-46aa-8741-69bc25d11a3e",
   "metadata": {},
   "source": [
    "We'll also import a list of city data, to use as our gold standard set.\n",
    "This is from: https://en.wikipedia.org/wiki/List_of_United_States_cities_by_population"
   ]
  },
  {
   "cell_type": "markdown",
   "id": "2235ef4e-8971-4a49-8793-de47baadfbbe",
   "metadata": {},
   "source": [
    "Now we'll make a quick checking function.  Our agent will be trying to find population and area, so we'll compare how well it did against this list."
   ]
  },
  {
   "cell_type": "markdown",
   "id": "cb008bc3-7f4b-42db-8f91-feaca25761dc",
   "metadata": {},
   "source": [
    "## 1) Lets rebuilt the a simple chat bot from 03-agentic-metrics to be deployed with AgentCore"
   ]
  },
  {
   "cell_type": "code",
   "execution_count": 2,
   "id": "7679c6b3",
   "metadata": {},
   "outputs": [
    {
     "name": "stdout",
     "output_type": "stream",
     "text": [
      "Writing ./citysearch.py\n"
     ]
    }
   ],
   "source": [
    "%%writefile ./citysearch.py\n",
    "from botocore.config import Config\n",
    "import requests\n",
    "from ddgs import DDGS\n",
    "from strands import Agent, tool\n",
    "from strands.models import BedrockModel\n",
    "import pandas as pd\n",
    "import re\n",
    "\n",
    "#A custom config for Bedrock to only allow short connections - for our demo we expect all calls to be fast.\n",
    "#here we turn off retries, and we time out after 20 seconds.\n",
    "quick_config = Config(\n",
    "    connect_timeout=5,\n",
    "    read_timeout=20,\n",
    "    retries={\"max_attempts\": 0}\n",
    ")\n",
    "\n",
    "from bedrock_agentcore.runtime import (\n",
    "    BedrockAgentCoreApp,\n",
    ")  #### AGENTCORE RUNTIME - LINE 1 ####\n",
    "from strands import Agent\n",
    "from strands.models import BedrockModel\n",
    "\n",
    "from boto3.session import Session\n",
    "boto_session = Session()\n",
    "region = boto_session.region_name\n",
    "\n",
    "@tool\n",
    "def web_search(topic: str) -> str:\n",
    "    \"\"\"Search Duck Duck go Service for a given topic.\n",
    "    Return a string listing the top 5 results including the url, title, and description of each result.\n",
    "    \"\"\"\n",
    "    try:\n",
    "        results = DDGS().text(topic, region=region, max_results=5)\n",
    "        return results if results else \"No results found.\"\n",
    "    except Exception as e:\n",
    "        return f\"Search error: {str(e)}\"\n",
    "\n",
    "#Create the chatbot.  We'll use Nova Micro to optimize for latency, cost, and capacity\n",
    "chatbot_model_name = \"us.amazon.nova-micro-v1:0\"\n",
    "#add custom timeout for the model, to keep the tool from hanging or retrying too much.\n",
    "chatbot_model = BedrockModel(\n",
    "    model_id=chatbot_model_name,\n",
    "    boto_client_config=quick_config    \n",
    ")\n",
    "chatbot = Agent(tools=[web_search], model=chatbot_model)\n",
    "#Call the chat bot with a simple request.\n",
    "prompt = \"\"\"How many people live in New York, and what's the area of the city in square miles?\n",
    "After you respond, also include your answer in 'pop' and 'area' XML tags, for programatic processing.\n",
    "The values in the XML tags should only be numbers, no words or commas.\"\"\"\n",
    "chatbot_response = chatbot(prompt)\n",
    "\n",
    "# Initialize the AgentCore Runtime App\n",
    "app = BedrockAgentCoreApp()  #### AGENTCORE RUNTIME - LINE 2 ####\n",
    "\n",
    "@app.entrypoint  #### AGENTCORE RUNTIME - LINE 3 ####\n",
    "def invoke(payload):\n",
    "    \"\"\"AgentCore Runtime entrypoint function\"\"\"\n",
    "    user_input = payload.get(\"prompt\", \"\")\n",
    "\n",
    "    # Invoke the agent\n",
    "    response = chatbot(user_input)\n",
    "    return response.message[\"content\"][0][\"text\"]\n",
    "\n",
    "\n",
    "if __name__ == \"__main__\":\n",
    "    app.run()  #### AGENTCORE RUNTIME - LINE 4 ####\n"
   ]
  },
  {
   "cell_type": "markdown",
   "id": "c411d0b1",
   "metadata": {},
   "source": [
    "# 2) Lets configure the agent with AgentCore Runtime"
   ]
  },
  {
   "cell_type": "code",
   "execution_count": 3,
   "id": "fed7801d-e699-4047-b965-1159b71feb6d",
   "metadata": {},
   "outputs": [
    {
     "name": "stderr",
     "output_type": "stream",
     "text": [
      "Entrypoint parsed: file=/Users/skoppar/workspace/sample-gen-ai-evaluations-workshop/05-framework-specific-evaluations/05-02-AgentCore/citysearch.py, bedrock_agentcore_name=citysearch\n",
      "Configuring BedrockAgentCore agent: citysearch\n"
     ]
    },
    {
     "data": {
      "text/html": [
       "<pre style=\"white-space:pre;overflow-x:auto;line-height:normal;font-family:Menlo,'DejaVu Sans Mono',consolas,'Courier New',monospace\">\n",
       "<span style=\"color: #808000; text-decoration-color: #808000; font-weight: bold; text-decoration: underline\">⚠️  [WARNING] Platform mismatch: Current system is </span><span style=\"color: #008000; text-decoration-color: #008000; text-decoration: underline\">'linux/amd64'</span><span style=\"color: #808000; text-decoration-color: #808000; font-weight: bold; text-decoration: underline\"> but Bedrock AgentCore requires </span><span style=\"color: #008000; text-decoration-color: #008000; text-decoration: underline\">'linux/arm64'</span><span style=\"color: #808000; text-decoration-color: #808000; font-weight: bold; text-decoration: underline\">.</span>\n",
       "<span style=\"color: #808000; text-decoration-color: #808000; font-weight: bold; text-decoration: underline\">For deployment options and workarounds, see: </span>\n",
       "<span style=\"color: #0000ff; text-decoration-color: #0000ff; text-decoration: underline\">https://docs.aws.amazon.com/bedrock-agentcore/latest/devguide/getting-started-custom.html</span>\n",
       "\n",
       "</pre>\n"
      ],
      "text/plain": [
       "\n",
       "\u001b[1;4;33m⚠️  \u001b[0m\u001b[1;4;33m[\u001b[0m\u001b[1;4;33mWARNING\u001b[0m\u001b[1;4;33m]\u001b[0m\u001b[1;4;33m Platform mismatch: Current system is \u001b[0m\u001b[4;32m'linux/amd64'\u001b[0m\u001b[1;4;33m but Bedrock AgentCore requires \u001b[0m\u001b[4;32m'linux/arm64'\u001b[0m\u001b[1;4;33m.\u001b[0m\n",
       "\u001b[1;4;33mFor deployment options and workarounds, see: \u001b[0m\n",
       "\u001b[4;94mhttps://docs.aws.amazon.com/bedrock-agentcore/latest/devguide/getting-started-custom.html\u001b[0m\n",
       "\n"
      ]
     },
     "metadata": {},
     "output_type": "display_data"
    },
    {
     "name": "stderr",
     "output_type": "stream",
     "text": [
      "Generated .dockerignore\n",
      "Generated Dockerfile: /Users/skoppar/workspace/sample-gen-ai-evaluations-workshop/05-framework-specific-evaluations/05-02-AgentCore/Dockerfile\n",
      "Generated .dockerignore: /Users/skoppar/workspace/sample-gen-ai-evaluations-workshop/05-framework-specific-evaluations/05-02-AgentCore/.dockerignore\n",
      "Setting 'citysearch' as default agent\n",
      "Bedrock AgentCore configured: /Users/skoppar/workspace/sample-gen-ai-evaluations-workshop/05-framework-specific-evaluations/05-02-AgentCore/.bedrock_agentcore.yaml\n"
     ]
    },
    {
     "data": {
      "text/plain": [
       "ConfigureResult(config_path=PosixPath('/Users/skoppar/workspace/sample-gen-ai-evaluations-workshop/05-framework-specific-evaluations/05-02-AgentCore/.bedrock_agentcore.yaml'), dockerfile_path=PosixPath('/Users/skoppar/workspace/sample-gen-ai-evaluations-workshop/05-framework-specific-evaluations/05-02-AgentCore/Dockerfile'), dockerignore_path=PosixPath('/Users/skoppar/workspace/sample-gen-ai-evaluations-workshop/05-framework-specific-evaluations/05-02-AgentCore/.dockerignore'), runtime='Docker', region='us-east-1', account_id='146666888814', execution_role=None, ecr_repository=None, auto_create_ecr=True)"
      ]
     },
     "execution_count": 3,
     "metadata": {},
     "output_type": "execute_result"
    }
   ],
   "source": [
    "from bedrock_agentcore_starter_toolkit import Runtime\n",
    "from boto3.session import Session\n",
    "boto_session = Session()\n",
    "region = boto_session.region_name\n",
    "\n",
    "agentcore_runtime = Runtime()\n",
    "agent_name = \"citysearch\"\n",
    "response = agentcore_runtime.configure(\n",
    "    entrypoint=\"citysearch.py\",\n",
    "    auto_create_execution_role=True,\n",
    "    auto_create_ecr=True,\n",
    "    requirements_file=\"05-02-03-requirements.txt\",\n",
    "    region=region,\n",
    "    agent_name=agent_name\n",
    ")\n",
    "response"
   ]
  },
  {
   "cell_type": "markdown",
   "id": "6eb9d354",
   "metadata": {},
   "source": [
    "# 3) Now that the citysearch agent is configured with AgentCore, lets launch it. \n",
    "This step \n",
    "1. Publishes the Docker file as a container into ECR, \n",
    "2. Creates a new generates an version for the agent. If you run this multiple times you will see multiple versions of the Agent\n",
    "3. Deploys the container on AgentCore Runtime\n",
    "This creates / updates the AgentCore runtime for the agent \"citysearch\" to have the latest version of the agent."
   ]
  },
  {
   "cell_type": "code",
   "execution_count": 5,
   "id": "88800cef",
   "metadata": {},
   "outputs": [
    {
     "name": "stderr",
     "output_type": "stream",
     "text": [
      "🚀 CodeBuild mode: building in cloud (RECOMMENDED - DEFAULT)\n",
      "   • Build ARM64 containers in the cloud with CodeBuild\n",
      "   • No local Docker required\n",
      "💡 Available deployment modes:\n",
      "   • runtime.launch()                           → CodeBuild (current)\n",
      "   • runtime.launch(local=True)                 → Local development\n",
      "   • runtime.launch(local_build=True)           → Local build + cloud deploy (NEW)\n",
      "Starting CodeBuild ARM64 deployment for agent 'citysearch' to account 146666888814 (us-east-1)\n",
      "Setting up AWS resources (ECR repository, execution roles)...\n",
      "Using ECR repository from config: 146666888814.dkr.ecr.us-east-1.amazonaws.com/bedrock-agentcore-citysearch\n",
      "Using execution role from config: arn:aws:iam::146666888814:role/AmazonBedrockAgentCoreSDKRuntime-us-east-1-672e22fb7a\n",
      "Preparing CodeBuild project and uploading source...\n",
      "Using CodeBuild role from config: arn:aws:iam::146666888814:role/AmazonBedrockAgentCoreSDKCodeBuild-us-east-1-672e22fb7a\n",
      "Using .dockerignore with 44 patterns\n",
      "Uploaded source to S3: citysearch/source.zip\n",
      "Using CodeBuild project from config: bedrock-agentcore-citysearch-builder\n",
      "Starting CodeBuild build (this may take several minutes)...\n",
      "Starting CodeBuild monitoring...\n",
      "🔄 QUEUED started (total: 0s)\n",
      "✅ QUEUED completed in 1.1s\n",
      "🔄 PROVISIONING started (total: 1s)\n",
      "✅ PROVISIONING completed in 9.1s\n",
      "🔄 DOWNLOAD_SOURCE started (total: 10s)\n",
      "✅ DOWNLOAD_SOURCE completed in 2.3s\n",
      "🔄 BUILD started (total: 13s)\n",
      "✅ BUILD completed in 20.4s\n",
      "🔄 POST_BUILD started (total: 33s)\n",
      "✅ POST_BUILD completed in 15.9s\n",
      "🔄 FINALIZING started (total: 49s)\n",
      "✅ FINALIZING completed in 1.1s\n",
      "🔄 COMPLETED started (total: 50s)\n",
      "✅ COMPLETED completed in 1.1s\n",
      "🎉 CodeBuild completed successfully in 0m 51s\n",
      "CodeBuild completed successfully\n",
      "✅ CodeBuild project configuration saved\n",
      "Deploying to Bedrock AgentCore...\n",
      "✅ Agent created/updated: arn:aws:bedrock-agentcore:us-east-1:146666888814:runtime/citysearch-583XaH96wT\n",
      "Polling for endpoint to be ready...\n",
      "Agent endpoint: arn:aws:bedrock-agentcore:us-east-1:146666888814:runtime/citysearch-583XaH96wT/runtime-endpoint/DEFAULT\n",
      "Deployment completed successfully - Agent: arn:aws:bedrock-agentcore:us-east-1:146666888814:runtime/citysearch-583XaH96wT\n",
      "Built with CodeBuild: bedrock-agentcore-citysearch-builder:51de8972-29ad-4076-88d0-273fdfc520cf\n",
      "Deployed to cloud: arn:aws:bedrock-agentcore:us-east-1:146666888814:runtime/citysearch-583XaH96wT\n",
      "ECR image: 146666888814.dkr.ecr.us-east-1.amazonaws.com/bedrock-agentcore-citysearch\n",
      "🔍 Agent logs available at:\n",
      "   /aws/bedrock-agentcore/runtimes/citysearch-583XaH96wT-DEFAULT --log-stream-name-prefix \"2025/10/22/\\[runtime-logs]\"\n",
      "   /aws/bedrock-agentcore/runtimes/citysearch-583XaH96wT-DEFAULT --log-stream-names \"otel-rt-logs\"\n",
      "💡 Tail logs with: aws logs tail /aws/bedrock-agentcore/runtimes/citysearch-583XaH96wT-DEFAULT --log-stream-name-prefix \"2025/10/22/\\[runtime-logs]\" --follow\n",
      "💡 Or view recent logs: aws logs tail /aws/bedrock-agentcore/runtimes/citysearch-583XaH96wT-DEFAULT --log-stream-name-prefix \"2025/10/22/\\[runtime-logs]\" --since 1h\n"
     ]
    }
   ],
   "source": [
    "launch_result = agentcore_runtime.launch(auto_update_on_conflict=True)"
   ]
  },
  {
   "cell_type": "markdown",
   "id": "8947c80c",
   "metadata": {},
   "source": [
    "# 4) Check the status of the deployed agent to ensure agent is ready for inference at the endpoint"
   ]
  },
  {
   "cell_type": "code",
   "execution_count": 6,
   "id": "4e172fe6",
   "metadata": {},
   "outputs": [
    {
     "name": "stderr",
     "output_type": "stream",
     "text": [
      "Retrieved Bedrock AgentCore status for: citysearch\n"
     ]
    },
    {
     "data": {
      "text/plain": [
       "'READY'"
      ]
     },
     "execution_count": 6,
     "metadata": {},
     "output_type": "execute_result"
    }
   ],
   "source": [
    "## Check agent status\n",
    "import time\n",
    "status_response = agentcore_runtime.status()\n",
    "status = status_response.endpoint['status']\n",
    "end_status = ['READY', 'CREATE_FAILED', 'DELETE_FAILED', 'UPDATE_FAILED']\n",
    "while status not in end_status:\n",
    "    time.sleep(10)\n",
    "    status_response = agentcore_runtime.status()\n",
    "    status = status_response.endpoint['status']\n",
    "    print(status)\n",
    "status"
   ]
  },
  {
   "cell_type": "markdown",
   "id": "609c5723",
   "metadata": {},
   "source": [
    "# 5) Test the agent to ensure it is ready for evaluation"
   ]
  },
  {
   "cell_type": "code",
   "execution_count": 7,
   "id": "97defa38",
   "metadata": {},
   "outputs": [
    {
     "name": "stdout",
     "output_type": "stream",
     "text": [
      "\"As of July 2024, the population of New York City is approximately 8,478,000\n",
      "people, according to the Department of City Planning. The total area of New York\n",
      "City is approximately 468.9 square miles, encompassing five boroughs: Manhattan,\n",
      "Brooklyn, Queens, The Bronx, and Staten Island.\\n\\nHere is the information in\n",
      "'pop' and 'area' XML tags:\\n\\n<pop>8478000</pop>\\n<area>468.9</area>\"\n"
     ]
    }
   ],
   "source": [
    "## Test successful deployment of the agent\n",
    "import boto3\n",
    "import json\n",
    "import uuid\n",
    "import textwrap\n",
    "\n",
    "# Create a session ID for demonstrating session continuity with AgentCore\n",
    "session_id = uuid.uuid4()\n",
    "\n",
    "client = boto3.client('bedrock-agentcore', region_name='us-east-1')\n",
    "payload =  json.dumps({\"prompt\": \"How many people live in New York, and what's the area of the city in square miles?\"})\n",
    "\n",
    "response = client.invoke_agent_runtime(\n",
    "    agentRuntimeArn=launch_result.agent_arn,\n",
    "    runtimeSessionId=f\"eval-session-{uuid.uuid4()}\",  # Must be 33+ chars\n",
    "    payload=payload,\n",
    "    qualifier=\"DEFAULT\" # Optional\n",
    ")\n",
    "response_body = response['response'].read()\n",
    "response_data = json.loads(response_body)\n",
    "formatted = json.dumps(response_data, indent=2)\n",
    "wrapped = textwrap.fill(formatted, width=80)\n",
    "print(wrapped)\n",
    "\n"
   ]
  },
  {
   "cell_type": "code",
   "execution_count": 8,
   "id": "edad633a",
   "metadata": {},
   "outputs": [
    {
     "name": "stdout",
     "output_type": "stream",
     "text": [
      "Stored 'citysearch_agent_arn' (str)\n"
     ]
    }
   ],
   "source": [
    "citysearch_agent_arn=launch_result.agent_arn\n",
    "%store citysearch_agent_arn\n"
   ]
  },
  {
   "cell_type": "code",
   "execution_count": 9,
   "id": "14837c85",
   "metadata": {},
   "outputs": [
    {
     "data": {
      "text/plain": [
       "{'ResponseMetadata': {'RequestId': '1709007c-09d1-4050-a89d-afdeb746ff97',\n",
       "  'HTTPStatusCode': 200,\n",
       "  'HTTPHeaders': {'date': 'Wed, 22 Oct 2025 23:02:38 GMT',\n",
       "   'content-type': 'application/json',\n",
       "   'transfer-encoding': 'chunked',\n",
       "   'connection': 'keep-alive',\n",
       "   'x-amzn-requestid': '1709007c-09d1-4050-a89d-afdeb746ff97',\n",
       "   'baggage': 'Self=1-68f9627f-6116aa173afd31452c27df31,session.id=eval-session-96c00e5a-c83e-4a08-88f3-16ab499deec3',\n",
       "   'x-amzn-bedrock-agentcore-runtime-session-id': 'eval-session-96c00e5a-c83e-4a08-88f3-16ab499deec3',\n",
       "   'x-amzn-trace-id': 'Root=1-68f9627f-6776d01023f5825650bfc525;Parent=f8622f389d690a86;Sampled=1;Self=1-68f9627f-6116aa173afd31452c27df31'},\n",
       "  'RetryAttempts': 0},\n",
       " 'runtimeSessionId': 'eval-session-96c00e5a-c83e-4a08-88f3-16ab499deec3',\n",
       " 'traceId': 'Root=1-68f9627f-6776d01023f5825650bfc525;Parent=f8622f389d690a86;Sampled=1;Self=1-68f9627f-6116aa173afd31452c27df31',\n",
       " 'baggage': 'Self=1-68f9627f-6116aa173afd31452c27df31,session.id=eval-session-96c00e5a-c83e-4a08-88f3-16ab499deec3',\n",
       " 'contentType': 'application/json',\n",
       " 'statusCode': 200,\n",
       " 'response': <botocore.response.StreamingBody at 0x116f89f90>}"
      ]
     },
     "execution_count": 9,
     "metadata": {},
     "output_type": "execute_result"
    }
   ],
   "source": [
    "## Lets look at the output of the agent\n",
    "response"
   ]
  },
  {
   "cell_type": "markdown",
   "id": "f54df746",
   "metadata": {},
   "source": [
    "## Here is what we have accomplished so far:\n",
    "1. We upgraded an existing agent to be deployable on Agentcore runtime\n",
    "2. Tested a simple invocation of the citysearch agent running on Agentcore\n",
    "3. Ensured the tool is appropriately configured through Agent Observability logs. Refer to README for screenshots which you can observe on your AWS console\n",
    "4. Stored the agent arn to be able to retrieve during the evaluation step\n",
    "\n",
    "## Now lets move on to the next portion which is agent evaluations --> 05-02-02-Agent-and-tool-evals-with-xray.ipynb"
   ]
  }
 ],
 "metadata": {
  "kernelspec": {
   "display_name": ".venv (3.12.4)",
   "language": "python",
   "name": "python3"
  },
  "language_info": {
   "codemirror_mode": {
    "name": "ipython",
    "version": 3
   },
   "file_extension": ".py",
   "mimetype": "text/x-python",
   "name": "python",
   "nbconvert_exporter": "python",
   "pygments_lexer": "ipython3",
   "version": "3.12.4"
  }
 },
 "nbformat": 4,
 "nbformat_minor": 5
}
