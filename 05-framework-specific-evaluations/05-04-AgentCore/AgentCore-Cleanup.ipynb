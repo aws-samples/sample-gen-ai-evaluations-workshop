{
 "cells": [
  {
   "cell_type": "markdown",
   "metadata": {},
   "source": [
    "# AgentCore Resource Cleanup\n",
    "\n",
    "This notebook cleans up AWS resources created by the Agentic-Metrics-AgentCore.ipynb notebook.\n",
    "\n",
    "## Resources to Clean Up:\n",
    "- AgentCore Runtime (citysearch agent)\n",
    "- ECR Repository (bedrock-agentcore-citysearch)\n",
    "- IAM Roles (AmazonBedrockAgentCoreSDKRuntime and AmazonBedrockAgentCoreSDKCodeBuild)\n",
    "- CodeBuild Project (bedrock-agentcore-citysearch-builder)\n",
    "- S3 Objects (source.zip uploads)\n",
    "- CloudWatch Log Groups\n",
    "\n",
    "**⚠️ Warning: This will permanently delete all AgentCore resources. Make sure you no longer need them.**"
   ]
  },
  {
   "cell_type": "markdown",
   "metadata": {},
   "source": [
    "## 1. Setup and Account ID Masking"
   ]
  },
  {
   "cell_type": "code",
   "execution_count": null,
   "metadata": {},
   "outputs": [],
   "source": [
    "import boto3\n",
    "import re\n",
    "import builtins\n",
    "import json\n",
    "from botocore.exceptions import ClientError\n",
    "\n",
    "# Account ID masking for security\n",
    "def mask_account_id(text):\n",
    "    return re.sub(r'\\b\\d{12}\\b', 'XXXXXXXXXXXX', str(text))\n",
    "\n",
    "_original_print = builtins.print\n",
    "\n",
    "def safe_print(*args, **kwargs):\n",
    "    args = [mask_account_id(arg) for arg in args]\n",
    "    _original_print(*args, **kwargs)\n",
    "\n",
    "builtins.print = safe_print\n",
    "\n",
    "# Initialize AWS clients\n",
    "session = boto3.Session()\n",
    "region = session.region_name or 'us-east-1'\n",
    "account_id = boto3.client('sts').get_caller_identity()['Account']\n",
    "\n",
    "agentcore_client = boto3.client('bedrock-agentcore', region_name=region)\n",
    "ecr_client = boto3.client('ecr', region_name=region)\n",
    "iam_client = boto3.client('iam')\n",
    "codebuild_client = boto3.client('codebuild', region_name=region)\n",
    "s3_client = boto3.client('s3', region_name=region)\n",
    "logs_client = boto3.client('logs', region_name=region)\n",
    "\n",
    "print(f\"✅ Initialized cleanup for region: {region}\")\n",
    "print(f\"✅ Account ID: {mask_account_id(account_id)}\")"
   ]
  },
  {
   "cell_type": "markdown",
   "metadata": {},
   "source": [
    "## 2. List Current AgentCore Resources"
   ]
  },
  {
   "cell_type": "code",
   "execution_count": null,
   "metadata": {},
   "outputs": [],
   "source": [
    "# Configuration - Update these if you used different names\n",
    "AGENT_NAME = \"citysearch\"\n",
    "ECR_REPO_NAME = f\"bedrock-agentcore-{AGENT_NAME}\"\n",
    "CODEBUILD_PROJECT_NAME = f\"bedrock-agentcore-{AGENT_NAME}-builder\"\n",
    "RUNTIME_ROLE_PREFIX = \"AmazonBedrockAgentCoreSDKRuntime\"\n",
    "CODEBUILD_ROLE_PREFIX = \"AmazonBedrockAgentCoreSDKCodeBuild\"\n",
    "\n",
    "print(f\"🔍 Looking for resources with agent name: {AGENT_NAME}\")\n",
    "print(f\"🔍 ECR Repository: {ECR_REPO_NAME}\")\n",
    "print(f\"🔍 CodeBuild Project: {CODEBUILD_PROJECT_NAME}\")"
   ]
  },
  {
   "cell_type": "code",
   "execution_count": null,
   "metadata": {},
   "outputs": [],
   "source": [
    "# List AgentCore runtimes\n",
    "try:\n",
    "    response = agentcore_client.list_runtimes()\n",
    "    runtimes = response.get('runtimes', [])\n",
    "    \n",
    "    citysearch_runtimes = [r for r in runtimes if AGENT_NAME in r.get('name', '').lower()]\n",
    "    \n",
    "    if citysearch_runtimes:\n",
    "        print(f\"📋 Found {len(citysearch_runtimes)} AgentCore runtime(s):\")\n",
    "        for runtime in citysearch_runtimes:\n",
    "            print(f\"  • Name: {runtime.get('name')}\")\n",
    "            print(f\"  • ARN: {mask_account_id(runtime.get('arn', 'N/A'))}\")\n",
    "            print(f\"  • Status: {runtime.get('status', 'N/A')}\")\n",
    "    else:\n",
    "        print(f\"ℹ️  No AgentCore runtimes found for agent: {AGENT_NAME}\")\n",
    "        \n",
    "except ClientError as e:\n",
    "    print(f\"❌ Error listing AgentCore runtimes: {e}\")"
   ]
  },
  {
   "cell_type": "markdown",
   "metadata": {},
   "source": [
    "## 3. Delete AgentCore Runtime"
   ]
  },
  {
   "cell_type": "code",
   "execution_count": null,
   "metadata": {},
   "outputs": [],
   "source": [
    "# Delete AgentCore runtimes\n",
    "deleted_runtimes = []\n",
    "\n",
    "if citysearch_runtimes:\n",
    "    for runtime in citysearch_runtimes:\n",
    "        runtime_arn = runtime.get('arn')\n",
    "        runtime_name = runtime.get('name')\n",
    "        \n",
    "        try:\n",
    "            print(f\"🗑️  Deleting AgentCore runtime: {runtime_name}\")\n",
    "            agentcore_client.delete_runtime(runtimeArn=runtime_arn)\n",
    "            deleted_runtimes.append(runtime_name)\n",
    "            print(f\"✅ Successfully deleted runtime: {runtime_name}\")\n",
    "            \n",
    "        except ClientError as e:\n",
    "            if e.response['Error']['Code'] == 'ResourceNotFoundException':\n",
    "                print(f\"ℹ️  Runtime {runtime_name} not found (may already be deleted)\")\n",
    "            else:\n",
    "                print(f\"❌ Error deleting runtime {runtime_name}: {e}\")\n",
    "else:\n",
    "    print(\"ℹ️  No AgentCore runtimes to delete\")"
   ]
  },
  {
   "cell_type": "markdown",
   "metadata": {},
   "source": [
    "## 4. Delete ECR Repository"
   ]
  },
  {
   "cell_type": "code",
   "execution_count": null,
   "metadata": {},
   "outputs": [],
   "source": [
    "# Delete ECR repository\n",
    "try:\n",
    "    print(f\"🗑️  Deleting ECR repository: {ECR_REPO_NAME}\")\n",
    "    ecr_client.delete_repository(\n",
    "        repositoryName=ECR_REPO_NAME,\n",
    "        force=True  # Delete even if it contains images\n",
    "    )\n",
    "    print(f\"✅ Successfully deleted ECR repository: {ECR_REPO_NAME}\")\n",
    "    \n",
    "except ClientError as e:\n",
    "    if e.response['Error']['Code'] == 'RepositoryNotFoundException':\n",
    "        print(f\"ℹ️  ECR repository {ECR_REPO_NAME} not found (may already be deleted)\")\n",
    "    else:\n",
    "        print(f\"❌ Error deleting ECR repository: {e}\")"
   ]
  },
  {
   "cell_type": "markdown",
   "metadata": {},
   "source": [
    "## 5. Delete CodeBuild Project"
   ]
  },
  {
   "cell_type": "code",
   "execution_count": null,
   "metadata": {},
   "outputs": [],
   "source": [
    "# Delete CodeBuild project\n",
    "try:\n",
    "    print(f\"🗑️  Deleting CodeBuild project: {CODEBUILD_PROJECT_NAME}\")\n",
    "    codebuild_client.delete_project(name=CODEBUILD_PROJECT_NAME)\n",
    "    print(f\"✅ Successfully deleted CodeBuild project: {CODEBUILD_PROJECT_NAME}\")\n",
    "    \n",
    "except ClientError as e:\n",
    "    if e.response['Error']['Code'] == 'ResourceNotFoundException':\n",
    "        print(f\"ℹ️  CodeBuild project {CODEBUILD_PROJECT_NAME} not found (may already be deleted)\")\n",
    "    else:\n",
    "        print(f\"❌ Error deleting CodeBuild project: {e}\")"
   ]
  },
  {
   "cell_type": "markdown",
   "metadata": {},
   "source": [
    "## 6. Clean Up IAM Roles"
   ]
  },
  {
   "cell_type": "code",
   "execution_count": null,
   "metadata": {},
   "outputs": [],
   "source": [
    "# List and delete IAM roles created by AgentCore\n",
    "def delete_iam_role_with_policies(role_name):\n",
    "    try:\n",
    "        # Detach managed policies\n",
    "        attached_policies = iam_client.list_attached_role_policies(RoleName=role_name)\n",
    "        for policy in attached_policies['AttachedPolicies']:\n",
    "            iam_client.detach_role_policy(\n",
    "                RoleName=role_name,\n",
    "                PolicyArn=policy['PolicyArn']\n",
    "            )\n",
    "            print(f\"  • Detached policy: {policy['PolicyName']}\")\n",
    "        \n",
    "        # Delete inline policies\n",
    "        inline_policies = iam_client.list_role_policies(RoleName=role_name)\n",
    "        for policy_name in inline_policies['PolicyNames']:\n",
    "            iam_client.delete_role_policy(RoleName=role_name, PolicyName=policy_name)\n",
    "            print(f\"  • Deleted inline policy: {policy_name}\")\n",
    "        \n",
    "        # Delete the role\n",
    "        iam_client.delete_role(RoleName=role_name)\n",
    "        print(f\"✅ Successfully deleted IAM role: {role_name}\")\n",
    "        return True\n",
    "        \n",
    "    except ClientError as e:\n",
    "        if e.response['Error']['Code'] == 'NoSuchEntity':\n",
    "            print(f\"ℹ️  IAM role {role_name} not found (may already be deleted)\")\n",
    "        else:\n",
    "            print(f\"❌ Error deleting IAM role {role_name}: {e}\")\n",
    "        return False\n",
    "\n",
    "# Find and delete AgentCore-related roles\n",
    "try:\n",
    "    roles = iam_client.list_roles()['Roles']\n",
    "    agentcore_roles = [\n",
    "        role for role in roles \n",
    "        if (RUNTIME_ROLE_PREFIX in role['RoleName'] or \n",
    "            CODEBUILD_ROLE_PREFIX in role['RoleName']) and \n",
    "            region in role['RoleName']\n",
    "    ]\n",
    "    \n",
    "    if agentcore_roles:\n",
    "        print(f\"📋 Found {len(agentcore_roles)} AgentCore IAM role(s):\")\n",
    "        for role in agentcore_roles:\n",
    "            role_name = role['RoleName']\n",
    "            print(f\"🗑️  Deleting IAM role: {role_name}\")\n",
    "            delete_iam_role_with_policies(role_name)\n",
    "    else:\n",
    "        print(\"ℹ️  No AgentCore IAM roles found\")\n",
    "        \n",
    "except ClientError as e:\n",
    "    print(f\"❌ Error listing IAM roles: {e}\")"
   ]
  },
  {
   "cell_type": "markdown",
   "metadata": {},
   "source": [
    "## 7. Clean Up S3 Objects"
   ]
  },
  {
   "cell_type": "code",
   "execution_count": null,
   "metadata": {},
   "outputs": [],
   "source": [
    "# Clean up S3 objects (source.zip uploads)\n",
    "# Note: AgentCore typically uses a bucket named after the account/region\n",
    "try:\n",
    "    # List buckets to find potential AgentCore buckets\n",
    "    buckets = s3_client.list_buckets()['Buckets']\n",
    "    agentcore_buckets = [\n",
    "        bucket for bucket in buckets \n",
    "        if 'agentcore' in bucket['Name'].lower() or \n",
    "           'bedrock' in bucket['Name'].lower()\n",
    "    ]\n",
    "    \n",
    "    for bucket in agentcore_buckets:\n",
    "        bucket_name = bucket['Name']\n",
    "        try:\n",
    "            # List objects with citysearch prefix\n",
    "            objects = s3_client.list_objects_v2(\n",
    "                Bucket=bucket_name,\n",
    "                Prefix=f\"{AGENT_NAME}/\"\n",
    "            )\n",
    "            \n",
    "            if 'Contents' in objects:\n",
    "                print(f\"🗑️  Cleaning up S3 objects in bucket: {bucket_name}\")\n",
    "                for obj in objects['Contents']:\n",
    "                    s3_client.delete_object(Bucket=bucket_name, Key=obj['Key'])\n",
    "                    print(f\"  • Deleted: {obj['Key']}\")\n",
    "                print(f\"✅ Cleaned up S3 objects for {AGENT_NAME}\")\n",
    "            else:\n",
    "                print(f\"ℹ️  No S3 objects found for {AGENT_NAME} in bucket: {bucket_name}\")\n",
    "                \n",
    "        except ClientError as e:\n",
    "            if e.response['Error']['Code'] == 'NoSuchBucket':\n",
    "                print(f\"ℹ️  Bucket {bucket_name} not found\")\n",
    "            else:\n",
    "                print(f\"❌ Error cleaning S3 bucket {bucket_name}: {e}\")\n",
    "    \n",
    "    if not agentcore_buckets:\n",
    "        print(\"ℹ️  No potential AgentCore S3 buckets found\")\n",
    "        \n",
    "except ClientError as e:\n",
    "    print(f\"❌ Error listing S3 buckets: {e}\")"
   ]
  },
  {
   "cell_type": "markdown",
   "metadata": {},
   "source": [
    "## 8. Clean Up CloudWatch Log Groups"
   ]
  },
  {
   "cell_type": "code",
   "execution_count": null,
   "metadata": {},
   "outputs": [],
   "source": [
    "# Clean up CloudWatch log groups\n",
    "try:\n",
    "    # Find log groups related to the agent\n",
    "    log_groups = logs_client.describe_log_groups(\n",
    "        logGroupNamePrefix='/aws/bedrock-agentcore/runtimes/'\n",
    "    )['logGroups']\n",
    "    \n",
    "    citysearch_log_groups = [\n",
    "        lg for lg in log_groups \n",
    "        if AGENT_NAME in lg['logGroupName'].lower()\n",
    "    ]\n",
    "    \n",
    "    if citysearch_log_groups:\n",
    "        print(f\"📋 Found {len(citysearch_log_groups)} CloudWatch log group(s):\")\n",
    "        for log_group in citysearch_log_groups:\n",
    "            log_group_name = log_group['logGroupName']\n",
    "            try:\n",
    "                print(f\"🗑️  Deleting log group: {log_group_name}\")\n",
    "                logs_client.delete_log_group(logGroupName=log_group_name)\n",
    "                print(f\"✅ Successfully deleted log group: {log_group_name}\")\n",
    "            except ClientError as e:\n",
    "                if e.response['Error']['Code'] == 'ResourceNotFoundException':\n",
    "                    print(f\"ℹ️  Log group {log_group_name} not found\")\n",
    "                else:\n",
    "                    print(f\"❌ Error deleting log group {log_group_name}: {e}\")\n",
    "    else:\n",
    "        print(f\"ℹ️  No CloudWatch log groups found for agent: {AGENT_NAME}\")\n",
    "        \n",
    "except ClientError as e:\n",
    "    print(f\"❌ Error listing CloudWatch log groups: {e}\")"
   ]
  },
  {
   "cell_type": "markdown",
   "metadata": {},
   "source": [
    "## 9. Clean Up Notebook Outputs (Remove Account IDs)"
   ]
  },
  {
   "cell_type": "code",
   "execution_count": 1,
   "metadata": {},
   "outputs": [
    {
     "name": "stdout",
     "output_type": "stream",
     "text": [
      "🧹 Cleaning notebook outputs to remove account IDs...\n",
      "✅ Cleaned 2 cells in Agentic-Metrics-AgentCore.ipynb\n",
      "ℹ️  No account IDs found in Agent-and-tool-evals-with-xray.ipynb\n",
      "\n",
      "✅ Successfully cleaned 2 cells across all notebooks\n",
      "📝 Notebooks are now safe to commit to GitHub\n"
     ]
    }
   ],
   "source": [
    "import json\n",
    "import os\n",
    "import re\n",
    "\n",
    "def clean_notebook_outputs(notebook_path):\n",
    "    \"\"\"Remove account IDs from notebook cell outputs\"\"\"\n",
    "    try:\n",
    "        with open(notebook_path, 'r', encoding='utf-8') as f:\n",
    "            notebook = json.load(f)\n",
    "        \n",
    "        cleaned_cells = 0\n",
    "        \n",
    "        for cell in notebook.get('cells', []):\n",
    "            if cell.get('cell_type') == 'code' and 'outputs' in cell:\n",
    "                original_outputs = json.dumps(cell['outputs'])\n",
    "                \n",
    "                # Clean outputs recursively\n",
    "                def clean_data(data):\n",
    "                    if isinstance(data, dict):\n",
    "                        return {k: clean_data(v) for k, v in data.items()}\n",
    "                    elif isinstance(data, list):\n",
    "                        return [clean_data(item) for item in data]\n",
    "                    elif isinstance(data, str):\n",
    "                        # Replace 12-digit account IDs with XXXXXXXXXXXX\n",
    "                        return re.sub(r'\\b\\d{12}\\b', 'XXXXXXXXXXXX', data)\n",
    "                    else:\n",
    "                        return data\n",
    "                \n",
    "                cell['outputs'] = clean_data(cell['outputs'])\n",
    "                \n",
    "                # Check if anything was changed\n",
    "                if original_outputs != json.dumps(cell['outputs']):\n",
    "                    cleaned_cells += 1\n",
    "        \n",
    "        # Write back the cleaned notebook\n",
    "        with open(notebook_path, 'w', encoding='utf-8') as f:\n",
    "            json.dump(notebook, f, indent=1, ensure_ascii=False)\n",
    "        \n",
    "        return cleaned_cells\n",
    "        \n",
    "    except Exception as e:\n",
    "        print(f\"❌ Error cleaning notebook {notebook_path}: {e}\")\n",
    "        return 0\n",
    "\n",
    "# Clean the main notebooks\n",
    "notebooks_to_clean = [\n",
    "    'Agentic-Metrics-AgentCore.ipynb',\n",
    "    'Agent-and-tool-evals-with-xray.ipynb'\n",
    "]\n",
    "\n",
    "print(\"🧹 Cleaning notebook outputs to remove account IDs...\")\n",
    "total_cleaned = 0\n",
    "\n",
    "for notebook_name in notebooks_to_clean:\n",
    "    if os.path.exists(notebook_name):\n",
    "        cleaned = clean_notebook_outputs(notebook_name)\n",
    "        total_cleaned += cleaned\n",
    "        if cleaned > 0:\n",
    "            print(f\"✅ Cleaned {cleaned} cells in {notebook_name}\")\n",
    "        else:\n",
    "            print(f\"ℹ️  No account IDs found in {notebook_name}\")\n",
    "    else:\n",
    "        print(f\"⚠️  Notebook not found: {notebook_name}\")\n",
    "\n",
    "if total_cleaned > 0:\n",
    "    print(f\"\\n✅ Successfully cleaned {total_cleaned} cells across all notebooks\")\n",
    "    print(\"📝 Notebooks are now safe to commit to GitHub\")\n",
    "else:\n",
    "    print(\"\\nℹ️  No account IDs found in notebook outputs\")"
   ]
  },
  {
   "cell_type": "markdown",
   "metadata": {},
   "source": [
    "## 10. Cleanup Summary"
   ]
  },
  {
   "cell_type": "code",
   "execution_count": null,
   "metadata": {},
   "outputs": [],
   "source": [
    "print(\"\\n\" + \"=\"*60)\n",
    "print(\"🧹 CLEANUP SUMMARY\")\n",
    "print(\"=\"*60)\n",
    "\n",
    "print(f\"\\n🤖 Agent: {AGENT_NAME}\")\n",
    "print(f\"🌍 Region: {region}\")\n",
    "print(f\"🔐 Account: {mask_account_id(account_id)}\")\n",
    "\n",
    "print(\"\\n📋 Resources Processed:\")\n",
    "print(f\"  • AgentCore Runtimes: {len(deleted_runtimes) if 'deleted_runtimes' in locals() else 0} deleted\")\n",
    "print(f\"  • ECR Repository: {ECR_REPO_NAME}\")\n",
    "print(f\"  • CodeBuild Project: {CODEBUILD_PROJECT_NAME}\")\n",
    "print(f\"  • IAM Roles: Runtime and CodeBuild roles\")\n",
    "print(f\"  • S3 Objects: Source uploads cleaned\")\n",
    "print(f\"  • CloudWatch Logs: Agent log groups\")\n",
    "print(f\"  • Notebook Outputs: Account IDs masked\")\n",
    "\n",
    "print(\"\\n✅ Cleanup completed!\")\n",
    "print(\"\\n💡 Next Steps:\")\n",
    "print(\"  1. Verify resources are deleted in AWS Console\")\n",
    "print(\"  2. Check for any remaining costs in AWS Cost Explorer\")\n",
    "print(\"  3. Notebooks are now safe to commit to GitHub\")\n",
    "\n",
    "print(\"\\n⚠️  Note: Some resources may take a few minutes to fully delete\")"
   ]
  }
 ],
 "metadata": {
  "kernelspec": {
   "display_name": ".venv",
   "language": "python",
   "name": "python3"
  },
  "language_info": {
   "codemirror_mode": {
    "name": "ipython",
    "version": 3
   },
   "file_extension": ".py",
   "mimetype": "text/x-python",
   "name": "python",
   "nbconvert_exporter": "python",
   "pygments_lexer": "ipython3",
   "version": "3.12.4"
  }
 },
 "nbformat": 4,
 "nbformat_minor": 4
}
