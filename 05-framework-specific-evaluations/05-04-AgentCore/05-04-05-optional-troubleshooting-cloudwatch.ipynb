{
 "cells": [
  {
   "cell_type": "markdown",
   "id": "1d3ce729",
   "metadata": {},
   "source": [
    "## This is an optional notebook to assist troubleshooting of cloudwatch logs primarily for Tool use verification with GenAI Observability"
   ]
  },
  {
   "cell_type": "code",
   "execution_count": null,
   "id": "e28af34c",
   "metadata": {},
   "outputs": [
    {
     "name": "stderr",
     "output_type": "stream",
     "text": [
      "/var/folders/x7/t3b9975n6_z57y4hq5d6yhfc0000gr/T/ipykernel_2512/1805218374.py:7: DeprecationWarning: datetime.datetime.utcnow() is deprecated and scheduled for removal in a future version. Use timezone-aware objects to represent datetimes in UTC: datetime.datetime.now(datetime.UTC).\n",
      "  end_time = datetime.utcnow()\n"
     ]
    },
    {
     "data": {
      "text/plain": [
       "['{\"resource\":{\"attributes\":{\"deployment.environment.name\":\"bedrock-agentcore:default\",\"aws.local.service\":\"citysearch.DEFAULT\",\"service.name\":\"citysearch.DEFAULT\",\"cloud.region\":\"us-east-1\",\"aws.log.stream.names\":\"otel-rt-logs\",\"telemetry.sdk.name\":\"opentelemetry\",\"aws.service.type\":\"gen_ai_agent\",\"telemetry.sdk.language\":\"python\",\"cloud.provider\":\"aws\",\"cloud.resource_id\":\"arn:aws:bedrock-agentcore:us-east-1:146666888814:runtime/citysearch-583XaH96wT/runtime-endpoint/DEFAULT:DEFAULT\",\"aws.log.group.names\":\"/aws/bedrock-agentcore/runtimes/citysearch-583XaH96wT-DEFAULT\",\"telemetry.sdk.version\":\"1.33.1\",\"cloud.platform\":\"aws_bedrock_agentcore\",\"telemetry.auto.version\":\"0.12.0-aws\"}},\"scope\":{\"name\":\"opentelemetry.instrumentation.botocore.bedrock-runtime\",\"schemaUrl\":\"https://opentelemetry.io/schemas/1.30.0\"},\"timeUnixNano\":1757858144548182791,\"observedTimeUnixNano\":1757858144548200496,\"severityNumber\":9,\"severityText\":\"\",\"body\":{\"message\":{\"content\":[{\"text\":\"<thinking> It seems that the web search did not return the specific data I was looking for. Given that the web search did not provide the exact population and area information, I will need to attempt another approach to find this data. However, I must adhere to the available tools and instructions.</thinking> <thinking> Since direct data retrieval isn\\'t possible with the current tools, I\\'ll inform the User that I don\\'t have the exact figures but can guide them on where to find this information.</thinking>\\\\n\\\\nI\\'m unable to provide the exact current population and area of New York City with the tools available, but you can find the most recent data on official city or census websites.\\\\n\\\\n<pop>0</pop>\\\\n<area>0</area>\"}],\"role\":\"assistant\"},\"index\":0,\"finish_reason\":\"end_turn\"},\"attributes\":{\"event.name\":\"gen_ai.choice\",\"gen_ai.system\":\"aws.bedrock\"},\"flags\":1,\"traceId\":\"68c6c95e571f05764ccb46bf55edb075\",\"spanId\":\"4b6c679f8669f722\"}',\n",
       " '{\"resource\":{\"attributes\":{\"deployment.environment.name\":\"bedrock-agentcore:default\",\"aws.local.service\":\"citysearch.DEFAULT\",\"service.name\":\"citysearch.DEFAULT\",\"cloud.region\":\"us-east-1\",\"aws.log.stream.names\":\"otel-rt-logs\",\"telemetry.sdk.name\":\"opentelemetry\",\"aws.service.type\":\"gen_ai_agent\",\"telemetry.sdk.language\":\"python\",\"cloud.provider\":\"aws\",\"cloud.resource_id\":\"arn:aws:bedrock-agentcore:us-east-1:146666888814:runtime/citysearch-583XaH96wT/runtime-endpoint/DEFAULT:DEFAULT\",\"aws.log.group.names\":\"/aws/bedrock-agentcore/runtimes/citysearch-583XaH96wT-DEFAULT\",\"telemetry.sdk.version\":\"1.33.1\",\"cloud.platform\":\"aws_bedrock_agentcore\",\"telemetry.auto.version\":\"0.12.0-aws\"}},\"scope\":{\"name\":\"strands.telemetry.tracer\"},\"timeUnixNano\":1757858144548792439,\"observedTimeUnixNano\":1757858144549011918,\"severityNumber\":9,\"severityText\":\"\",\"body\":{\"output\":{\"messages\":[{\"content\":{\"content\":\"[{\\\\\"text\\\\\": \\\\\"<thinking> To determine the population and area of New York City, I will first perform a web search for the most recent and accurate data. This will provide me with the necessary information to answer the User\\'s question and prepare the XML response.</thinking>\\\\\\\\n\\\\\\\\n\\\\\"}, {\\\\\"toolUse\\\\\": {\\\\\"toolUseId\\\\\": \\\\\"tooluse_PPP36jyORw6PvAR44hlUGw\\\\\", \\\\\"name\\\\\": \\\\\"web_search\\\\\", \\\\\"input\\\\\": {\\\\\"topic\\\\\": \\\\\"current population of New York City\\\\\"}}}, {\\\\\"toolUse\\\\\": {\\\\\"toolUseId\\\\\": \\\\\"tooluse_kRwpn98ETqaNuXZ8ZqTxQA\\\\\", \\\\\"name\\\\\": \\\\\"web_search\\\\\", \\\\\"input\\\\\": {\\\\\"topic\\\\\": \\\\\"area of New York City in square miles\\\\\"}}}]\"},\"role\":\"assistant\"},{\"content\":{\"message\":\"[{\\\\\"text\\\\\": \\\\\"<thinking> It seems that the web search did not return the specific data I was looking for. Given that the web search did not provide the exact population and area information, I will need to attempt another approach to find this data. However, I must adhere to the available tools and instructions.</thinking> <thinking> Since direct data retrieval isn\\'t possible with the current tools, I\\'ll inform the User that I don\\'t have the exact figures but can guide them on where to find this information.</thinking>\\\\\\\\n\\\\\\\\nI\\'m unable to provide the exact current population and area of New York City with the tools available, but you can find the most recent data on official city or census websites.\\\\\\\\n\\\\\\\\n<pop>0</pop>\\\\\\\\n<area>0</area>\\\\\"}]\",\"finish_reason\":\"end_turn\"},\"role\":\"assistant\"}]},\"input\":{\"messages\":[{\"content\":{\"content\":\"[{\\\\\"toolResult\\\\\": {\\\\\"toolUseId\\\\\": \\\\\"tooluse_kRwpn98ETqaNuXZ8ZqTxQA\\\\\", \\\\\"status\\\\\": \\\\\"success\\\\\", \\\\\"content\\\\\": [{\\\\\"text\\\\\": \\\\\"\\\\\"}]}}, {\\\\\"toolResult\\\\\": {\\\\\"toolUseId\\\\\": \\\\\"tooluse_PPP36jyORw6PvAR44hlUGw\\\\\", \\\\\"status\\\\\": \\\\\"success\\\\\", \\\\\"content\\\\\": [{\\\\\"text\\\\\": \\\\\"\\\\\"}]}}]\"},\"role\":\"user\"}]}},\"attributes\":{\"event.name\":\"strands.telemetry.tracer\"},\"flags\":1,\"traceId\":\"68c6c95e571f05764ccb46bf55edb075\",\"spanId\":\"21f84202c68239ba\"}',\n",
       " '{\"resource\":{\"attributes\":{\"deployment.environment.name\":\"bedrock-agentcore:default\",\"aws.local.service\":\"citysearch.DEFAULT\",\"service.name\":\"citysearch.DEFAULT\",\"cloud.region\":\"us-east-1\",\"aws.log.stream.names\":\"otel-rt-logs\",\"telemetry.sdk.name\":\"opentelemetry\",\"aws.service.type\":\"gen_ai_agent\",\"telemetry.sdk.language\":\"python\",\"cloud.provider\":\"aws\",\"cloud.resource_id\":\"arn:aws:bedrock-agentcore:us-east-1:146666888814:runtime/citysearch-583XaH96wT/runtime-endpoint/DEFAULT:DEFAULT\",\"aws.log.group.names\":\"/aws/bedrock-agentcore/runtimes/citysearch-583XaH96wT-DEFAULT\",\"telemetry.sdk.version\":\"1.33.1\",\"cloud.platform\":\"aws_bedrock_agentcore\",\"telemetry.auto.version\":\"0.12.0-aws\"}},\"scope\":{\"name\":\"strands.telemetry.tracer\"},\"timeUnixNano\":1757858144585227778,\"observedTimeUnixNano\":1757858144585362336,\"severityNumber\":9,\"severityText\":\"\",\"body\":{\"output\":{\"messages\":[{\"content\":{\"content\":\"[{\\\\\"text\\\\\": \\\\\"<thinking> To determine the population and area of New York City, I will first perform a web search for the most recent and accurate data. This will provide me with the necessary information to answer the User\\'s question and prepare the XML response.</thinking>\\\\\\\\n\\\\\\\\n\\\\\"}, {\\\\\"toolUse\\\\\": {\\\\\"toolUseId\\\\\": \\\\\"tooluse_PPP36jyORw6PvAR44hlUGw\\\\\", \\\\\"name\\\\\": \\\\\"web_search\\\\\", \\\\\"input\\\\\": {\\\\\"topic\\\\\": \\\\\"current population of New York City\\\\\"}}}, {\\\\\"toolUse\\\\\": {\\\\\"toolUseId\\\\\": \\\\\"tooluse_kRwpn98ETqaNuXZ8ZqTxQA\\\\\", \\\\\"name\\\\\": \\\\\"web_search\\\\\", \\\\\"input\\\\\": {\\\\\"topic\\\\\": \\\\\"area of New York City in square miles\\\\\"}}}]\"},\"role\":\"assistant\"},{\"content\":{\"message\":\"[{\\\\\"text\\\\\": \\\\\"<thinking> It seems that the web search did not return the specific data I was looking for. Given that the web search did not provide the exact population and area information, I will need to attempt another approach to find this data. However, I must adhere to the available tools and instructions.</thinking> <thinking> Since direct data retrieval isn\\'t possible with the current tools, I\\'ll inform the User that I don\\'t have the exact figures but can guide them on where to find this information.</thinking>\\\\\\\\n\\\\\\\\nI\\'m unable to provide the exact current population and area of New York City with the tools available, but you can find the most recent data on official city or census websites.\\\\\\\\n\\\\\\\\n<pop>0</pop>\\\\\\\\n<area>0</area>\\\\\"}]\"},\"role\":\"assistant\"}]},\"input\":{\"messages\":[{\"content\":{\"content\":\"[{\\\\\"toolResult\\\\\": {\\\\\"toolUseId\\\\\": \\\\\"tooluse_kRwpn98ETqaNuXZ8ZqTxQA\\\\\", \\\\\"status\\\\\": \\\\\"success\\\\\", \\\\\"content\\\\\": [{\\\\\"text\\\\\": \\\\\"\\\\\"}]}}, {\\\\\"toolResult\\\\\": {\\\\\"toolUseId\\\\\": \\\\\"tooluse_PPP36jyORw6PvAR44hlUGw\\\\\", \\\\\"status\\\\\": \\\\\"success\\\\\", \\\\\"content\\\\\": [{\\\\\"text\\\\\": \\\\\"\\\\\"}]}}]\"},\"role\":\"user\"}]}},\"attributes\":{\"event.name\":\"strands.telemetry.tracer\"},\"flags\":1,\"traceId\":\"68c6c95e571f05764ccb46bf55edb075\",\"spanId\":\"71db2f33906800c0\"}',\n",
       " '{\"resource\":{\"attributes\":{\"deployment.environment.name\":\"bedrock-agentcore:default\",\"aws.local.service\":\"citysearch.DEFAULT\",\"service.name\":\"citysearch.DEFAULT\",\"cloud.region\":\"us-east-1\",\"aws.log.stream.names\":\"otel-rt-logs\",\"telemetry.sdk.name\":\"opentelemetry\",\"aws.service.type\":\"gen_ai_agent\",\"telemetry.sdk.language\":\"python\",\"cloud.provider\":\"aws\",\"cloud.resource_id\":\"arn:aws:bedrock-agentcore:us-east-1:146666888814:runtime/citysearch-583XaH96wT/runtime-endpoint/DEFAULT:DEFAULT\",\"aws.log.group.names\":\"/aws/bedrock-agentcore/runtimes/citysearch-583XaH96wT-DEFAULT\",\"telemetry.sdk.version\":\"1.33.1\",\"cloud.platform\":\"aws_bedrock_agentcore\",\"telemetry.auto.version\":\"0.12.0-aws\"}},\"scope\":{\"name\":\"strands.telemetry.tracer\"},\"timeUnixNano\":1757858144630385196,\"observedTimeUnixNano\":1757858144630506923,\"severityNumber\":9,\"severityText\":\"\",\"body\":{\"output\":{\"messages\":[{\"content\":{\"message\":\"<thinking> It seems that the web search did not return the specific data I was looking for. Given that the web search did not provide the exact population and area information, I will need to attempt another approach to find this data. However, I must adhere to the available tools and instructions.</thinking> <thinking> Since direct data retrieval isn\\'t possible with the current tools, I\\'ll inform the User that I don\\'t have the exact figures but can guide them on where to find this information.</thinking>\\\\n\\\\nI\\'m unable to provide the exact current population and area of New York City with the tools available, but you can find the most recent data on official city or census websites.\\\\n\\\\n<pop>0</pop>\\\\n<area>0</area>\\\\n\",\"finish_reason\":\"end_turn\"},\"role\":\"assistant\"}]},\"input\":{\"messages\":[{\"content\":{\"content\":\"[{\\\\\"text\\\\\": \\\\\"How many people live in New York, and what\\'s the area of the city in square miles?\\\\\\\\nAfter you respond, also include your answer in \\'pop\\' and \\'area\\' XML tags, for programatic processing.\\\\\\\\nThe values in the XML tags should only be numbers, no words or commas.\\\\\"}]\"},\"role\":\"user\"}]}},\"attributes\":{\"event.name\":\"strands.telemetry.tracer\"},\"flags\":1,\"traceId\":\"68c6c95e571f05764ccb46bf55edb075\",\"spanId\":\"94fcc16520e9016e\"}']"
      ]
     },
     "execution_count": 4,
     "metadata": {},
     "output_type": "execute_result"
    }
   ],
   "source": [
    "import boto3\n",
    "from datetime import datetime, timedelta\n",
    "\n",
    "def extract_logs_for_session(session_id, log_group_name='/aws/bedrock/agentcore', days_back=1):\n",
    "    logs_client = boto3.client('logs')\n",
    "    \n",
    "    end_time = datetime.utcnow()\n",
    "    start_time = end_time - timedelta(days=days_back)\n",
    "    \n",
    "    response = logs_client.filter_log_events(\n",
    "        logGroupName=log_group_name,\n",
    "        filterPattern=session_id\n",
    "    )\n",
    "    \n",
    "    return [event['message'] for event in response.get('events', [])]\n",
    "\n",
    "# Usage\n",
    "session_id = \"eval-session-f9400df5-6198-4f19-a491-fa1e8fcafa4f\"\n",
    "logs = extract_logs_for_session(session_id, log_group_name='/aws/bedrock-agentcore/runtimes/citysearch-583XaH96wT-DEFAULT')\n",
    "logs"
   ]
  },
  {
   "cell_type": "code",
   "execution_count": 13,
   "id": "80e8c073",
   "metadata": {},
   "outputs": [],
   "source": [
    "import json\n",
    "cwlog_name='./observability_samples_cwlogs/cloudwatch_logs_sept18.jsonl'\n",
    "def write_logs_as_jsonl(logs, filename):\n",
    "    with open(filename, 'w') as f:\n",
    "        for log in logs:\n",
    "            f.write(json.dumps(log) + '\\n')\n",
    "write_logs_as_jsonl(logs,cwlog_name )"
   ]
  },
  {
   "cell_type": "code",
   "execution_count": 10,
   "id": "9f8d42d3",
   "metadata": {},
   "outputs": [
    {
     "data": {
      "text/plain": [
       "{'resource': {'attributes': {'deployment.environment.name': 'bedrock-agentcore:default',\n",
       "   'aws.local.service': 'citysearch.DEFAULT',\n",
       "   'service.name': 'citysearch.DEFAULT',\n",
       "   'cloud.region': 'us-east-1',\n",
       "   'aws.log.stream.names': 'otel-rt-logs',\n",
       "   'telemetry.sdk.name': 'opentelemetry',\n",
       "   'aws.service.type': 'gen_ai_agent',\n",
       "   'telemetry.sdk.language': 'python',\n",
       "   'cloud.provider': 'aws',\n",
       "   'cloud.resource_id': 'arn:aws:bedrock-agentcore:us-east-1:146666888814:runtime/citysearch-583XaH96wT/runtime-endpoint/DEFAULT:DEFAULT',\n",
       "   'aws.log.group.names': '/aws/bedrock-agentcore/runtimes/citysearch-583XaH96wT-DEFAULT',\n",
       "   'telemetry.sdk.version': '1.33.1',\n",
       "   'cloud.platform': 'aws_bedrock_agentcore',\n",
       "   'telemetry.auto.version': '0.12.0-aws'}},\n",
       " 'scope': {'name': 'strands.telemetry.tracer'},\n",
       " 'timeUnixNano': 1757858144585227778,\n",
       " 'observedTimeUnixNano': 1757858144585362336,\n",
       " 'severityNumber': 9,\n",
       " 'severityText': '',\n",
       " 'body': {'output': {'messages': [{'content': {'content': '[{\"text\": \"<thinking> To determine the population and area of New York City, I will first perform a web search for the most recent and accurate data. This will provide me with the necessary information to answer the User\\'s question and prepare the XML response.</thinking>\\\\n\\\\n\"}, {\"toolUse\": {\"toolUseId\": \"tooluse_PPP36jyORw6PvAR44hlUGw\", \"name\": \"web_search\", \"input\": {\"topic\": \"current population of New York City\"}}}, {\"toolUse\": {\"toolUseId\": \"tooluse_kRwpn98ETqaNuXZ8ZqTxQA\", \"name\": \"web_search\", \"input\": {\"topic\": \"area of New York City in square miles\"}}}]'},\n",
       "     'role': 'assistant'},\n",
       "    {'content': {'message': '[{\"text\": \"<thinking> It seems that the web search did not return the specific data I was looking for. Given that the web search did not provide the exact population and area information, I will need to attempt another approach to find this data. However, I must adhere to the available tools and instructions.</thinking> <thinking> Since direct data retrieval isn\\'t possible with the current tools, I\\'ll inform the User that I don\\'t have the exact figures but can guide them on where to find this information.</thinking>\\\\n\\\\nI\\'m unable to provide the exact current population and area of New York City with the tools available, but you can find the most recent data on official city or census websites.\\\\n\\\\n<pop>0</pop>\\\\n<area>0</area>\"}]'},\n",
       "     'role': 'assistant'}]},\n",
       "  'input': {'messages': [{'content': {'content': '[{\"toolResult\": {\"toolUseId\": \"tooluse_kRwpn98ETqaNuXZ8ZqTxQA\", \"status\": \"success\", \"content\": [{\"text\": \"\"}]}}, {\"toolResult\": {\"toolUseId\": \"tooluse_PPP36jyORw6PvAR44hlUGw\", \"status\": \"success\", \"content\": [{\"text\": \"\"}]}}]'},\n",
       "     'role': 'user'}]}},\n",
       " 'attributes': {'event.name': 'strands.telemetry.tracer'},\n",
       " 'flags': 1,\n",
       " 'traceId': '68c6c95e571f05764ccb46bf55edb075',\n",
       " 'spanId': '71db2f33906800c0'}"
      ]
     },
     "execution_count": 10,
     "metadata": {},
     "output_type": "execute_result"
    }
   ],
   "source": [
    "import json\n",
    "json.loads(logs[2])"
   ]
  },
  {
   "cell_type": "code",
   "execution_count": 15,
   "id": "0dbead48",
   "metadata": {},
   "outputs": [
    {
     "name": "stdout",
     "output_type": "stream",
     "text": [
      "{\"resource\":{\"attributes\":{\"deployment.environment.name\":\"bedrock-agentcore:default\",\"aws.local.service\":\"citysearch.DEFAULT\",\"service.name\":\"citysearch.DEFAULT\",\"cloud.region\":\"us-east-1\",\"aws.log.stream.names\":\"otel-rt-logs\",\"telemetry.sdk.name\":\"opentelemetry\",\"aws.service.type\":\"gen_ai_agent\",\"telemetry.sdk.language\":\"python\",\"cloud.provider\":\"aws\",\"cloud.resource_id\":\"arn:aws:bedrock-agentcore:us-east-1:146666888814:runtime/citysearch-583XaH96wT/runtime-endpoint/DEFAULT:DEFAULT\",\"aws.log.group.names\":\"/aws/bedrock-agentcore/runtimes/citysearch-583XaH96wT-DEFAULT\",\"telemetry.sdk.version\":\"1.33.1\",\"cloud.platform\":\"aws_bedrock_agentcore\",\"telemetry.auto.version\":\"0.12.0-aws\"}},\"scope\":{\"name\":\"strands.telemetry.tracer\"},\"timeUnixNano\":1757858144548792439,\"observedTimeUnixNano\":1757858144549011918,\"severityNumber\":9,\"severityText\":\"\",\"body\":{\"output\":{\"messages\":[{\"content\":{\"content\":\"[{\\\"text\\\": \\\"<thinking> To determine the population and area of New York City, I will first perform a web search for the most recent and accurate data. This will provide me with the necessary information to answer the User's question and prepare the XML response.</thinking>\\\\n\\\\n\\\"}, {\\\"toolUse\\\": {\\\"toolUseId\\\": \\\"tooluse_PPP36jyORw6PvAR44hlUGw\\\", \\\"name\\\": \\\"web_search\\\", \\\"input\\\": {\\\"topic\\\": \\\"current population of New York City\\\"}}}, {\\\"toolUse\\\": {\\\"toolUseId\\\": \\\"tooluse_kRwpn98ETqaNuXZ8ZqTxQA\\\", \\\"name\\\": \\\"web_search\\\", \\\"input\\\": {\\\"topic\\\": \\\"area of New York City in square miles\\\"}}}]\"},\"role\":\"assistant\"},{\"content\":{\"message\":\"[{\\\"text\\\": \\\"<thinking> It seems that the web search did not return the specific data I was looking for. Given that the web search did not provide the exact population and area information, I will need to attempt another approach to find this data. However, I must adhere to the available tools and instructions.</thinking> <thinking> Since direct data retrieval isn't possible with the current tools, I'll inform the User that I don't have the exact figures but can guide them on where to find this information.</thinking>\\\\n\\\\nI'm unable to provide the exact current population and area of New York City with the tools available, but you can find the most recent data on official city or census websites.\\\\n\\\\n<pop>0</pop>\\\\n<area>0</area>\\\"}]\",\"finish_reason\":\"end_turn\"},\"role\":\"assistant\"}]},\"input\":{\"messages\":[{\"content\":{\"content\":\"[{\\\"toolResult\\\": {\\\"toolUseId\\\": \\\"tooluse_kRwpn98ETqaNuXZ8ZqTxQA\\\", \\\"status\\\": \\\"success\\\", \\\"content\\\": [{\\\"text\\\": \\\"\\\"}]}}, {\\\"toolResult\\\": {\\\"toolUseId\\\": \\\"tooluse_PPP36jyORw6PvAR44hlUGw\\\", \\\"status\\\": \\\"success\\\", \\\"content\\\": [{\\\"text\\\": \\\"\\\"}]}}]\"},\"role\":\"user\"}]}},\"attributes\":{\"event.name\":\"strands.telemetry.tracer\"},\"flags\":1,\"traceId\":\"68c6c95e571f05764ccb46bf55edb075\",\"spanId\":\"21f84202c68239ba\"}\n"
     ]
    }
   ],
   "source": [
    "# read jsonl file\n",
    "with open(cwlog_name, 'r') as f:\n",
    "    cwlogs = [json.loads(line) for line in f]\n",
    "    print(cwlogs[1])\n"
   ]
  },
  {
   "cell_type": "code",
   "execution_count": 18,
   "id": "ba59b806",
   "metadata": {},
   "outputs": [
    {
     "name": "stdout",
     "output_type": "stream",
     "text": [
      "All tools found: ['web_search']\n"
     ]
    }
   ],
   "source": [
    "import json\n",
    "\n",
    "def extract_tooluse_from_log(log_message):\n",
    "    tools = []\n",
    "    \n",
    "    try:\n",
    "        log_data = json.loads(log_message)\n",
    "        \n",
    "        # Navigate to output messages\n",
    "        messages = log_data.get('body', {}).get('output', {}).get('messages', [])\n",
    "        \n",
    "        for message in messages:\n",
    "            content = message.get('content', {}).get('content', '')\n",
    "            \n",
    "            # Parse the content JSON string\n",
    "            if content:\n",
    "                content_data = json.loads(content)\n",
    "                # Extract toolUse from each item\n",
    "                for item in content_data:\n",
    "                    if 'toolUse' in item:\n",
    "                        tool_name = item['toolUse']['name']\n",
    "                        tools.append(tool_name)\n",
    "                        \n",
    "    except (json.JSONDecodeError, KeyError) as e:\n",
    "        print(f\"Error parsing log: {e}\")\n",
    "    \n",
    "    return tools\n",
    "\n",
    "def extract_tools_from_all_logs(logs_list):\n",
    "    all_tools = []\n",
    "    for log in logs_list:\n",
    "        tools = extract_tooluse_from_log(log)\n",
    "        all_tools.extend(tools)\n",
    "    return all_tools\n",
    "\n",
    "# Example usage\n",
    "all_tools = extract_tools_from_all_logs(cwlogs)\n",
    "print(f\"All tools found: {list(set(all_tools))}\")"
   ]
  },
  {
   "cell_type": "code",
   "execution_count": null,
   "id": "8685696a",
   "metadata": {},
   "outputs": [],
   "source": [
    "from typing import Dict, List, Any, Optional\n",
    "import time\n",
    "import uuid\n",
    "\n",
    "AGENT_NAME = \"citysearch\"\n",
    "AGENT_ENDPOINT = \"arn:aws:bedrock-agentcore:us-east-1:146666888814:runtime/citysearch-583XaH96wT\"\n",
    "agentcore_client = boto3.client('bedrock-agentcore', region_name='us-east-1')\n",
    "\n",
    "async def invoke_agent(query: str) -> Dict[str, Any]:\n",
    "    \"\"\"Invoke the agent using AgentCore Runtime\"\"\"\n",
    "    start_time = time.time()\n",
    "    \n",
    "    try:\n",
    "        payload = json.dumps({\"prompt\": query})\n",
    "        session_id = f\"eval-session-{uuid.uuid4()}\"\n",
    "        print(f\"Session ID: {session_id}\")\n",
    "        response = agentcore_client.invoke_agent_runtime(\n",
    "            agentRuntimeArn=AGENT_ENDPOINT,\n",
    "            runtimeSessionId=session_id,\n",
    "            payload=payload,\n",
    "            qualifier=\"DEFAULT\"\n",
    "        )\n",
    "        \n",
    "        print(\"AgentCore Response keys:\", list(response.keys()))\n",
    "        print(\"AgentCore Response Traceid :\", response.get('traceId', ''))\n",
    "        # Extract response text from StreamingBody\n",
    "        response_text = \"\"\n",
    "        if isinstance(response, dict) and 'response' in response:\n",
    "            streaming_body = response['response']\n",
    "            if hasattr(streaming_body, 'read'):\n",
    "                response_text = streaming_body.read().decode('utf-8')\n",
    "                print(f\"Extracted response text: {response_text}\")\n",
    "            else:\n",
    "                response_text = str(streaming_body)\n",
    "        else:\n",
    "            response_text = str(response)\n",
    "        return response\n",
    "    except Exception as e:\n",
    "        error_msg = f\"Error invoking agent: {str(e)}\"\n",
    "        print(error_msg)        "
   ]
  },
  {
   "cell_type": "code",
   "execution_count": 37,
   "id": "24b65e49",
   "metadata": {},
   "outputs": [
    {
     "name": "stdout",
     "output_type": "stream",
     "text": [
      "Session ID: eval-session-78c4db35-7e94-4fe6-b6fe-b45bc6439cbd\n",
      "AgentCore Response keys: ['ResponseMetadata', 'runtimeSessionId', 'traceId', 'baggage', 'contentType', 'statusCode', 'response']\n",
      "AgentCore Response Traceid : Root=1-68cccdf6-08060d654af50eb30f9f8cf2;Self=1-68cccdf6-716fea7c4f6effdb32d15948\n",
      "Extracted response text: \"<thinking> Based on the web search results, I found the most recent data about the population of Cypress, Orange County. According to the sources, the population of Cypress as of the 2020 census was 50,151. However, the most recent estimate from 2025 indicates a decrease in population, with an estimated population of 47,938. This represents a decline of approximately 4.21% since the last census. Now, I will provide this information in the requested format.</thinking>\\n\\nThe population of Cypress, Orange County, as of 2025 is estimated to be **47,938**. This figure reflects a decrease from the 2020 census population of **50,151**.\"\n"
     ]
    }
   ],
   "source": [
    "agent_result = await invoke_agent(\"How many residents in cypress orange county?\")"
   ]
  },
  {
   "cell_type": "code",
   "execution_count": 39,
   "id": "a1db8fd8",
   "metadata": {},
   "outputs": [
    {
     "data": {
      "text/plain": [
       "{'ResponseMetadata': {'RequestId': '1d692087-1d0f-4242-b59b-9a4e2dc87c7c',\n",
       "  'HTTPStatusCode': 200,\n",
       "  'HTTPHeaders': {'date': 'Fri, 19 Sep 2025 03:28:57 GMT',\n",
       "   'content-type': 'application/json',\n",
       "   'transfer-encoding': 'chunked',\n",
       "   'connection': 'keep-alive',\n",
       "   'x-amzn-requestid': '1d692087-1d0f-4242-b59b-9a4e2dc87c7c',\n",
       "   'baggage': 'Self=1-68cccdf6-716fea7c4f6effdb32d15948,session.id=eval-session-78c4db35-7e94-4fe6-b6fe-b45bc6439cbd',\n",
       "   'x-amzn-bedrock-agentcore-runtime-session-id': 'eval-session-78c4db35-7e94-4fe6-b6fe-b45bc6439cbd',\n",
       "   'x-amzn-trace-id': 'Root=1-68cccdf6-08060d654af50eb30f9f8cf2;Self=1-68cccdf6-716fea7c4f6effdb32d15948'},\n",
       "  'RetryAttempts': 0},\n",
       " 'runtimeSessionId': 'eval-session-78c4db35-7e94-4fe6-b6fe-b45bc6439cbd',\n",
       " 'traceId': 'Root=1-68cccdf6-08060d654af50eb30f9f8cf2;Self=1-68cccdf6-716fea7c4f6effdb32d15948',\n",
       " 'baggage': 'Self=1-68cccdf6-716fea7c4f6effdb32d15948,session.id=eval-session-78c4db35-7e94-4fe6-b6fe-b45bc6439cbd',\n",
       " 'contentType': 'application/json',\n",
       " 'statusCode': 200,\n",
       " 'response': <botocore.response.StreamingBody at 0x1178707f0>}"
      ]
     },
     "execution_count": 39,
     "metadata": {},
     "output_type": "execute_result"
    }
   ],
   "source": [
    "agent_result"
   ]
  },
  {
   "cell_type": "code",
   "execution_count": 48,
   "id": "ac96c6f9",
   "metadata": {},
   "outputs": [],
   "source": [
    "import json\n",
    "\n",
    "response_dict = agent_result['response']\n",
    "content = response_dict.read().decode('utf-8')"
   ]
  },
  {
   "cell_type": "code",
   "execution_count": null,
   "id": "cb3829ff",
   "metadata": {},
   "outputs": [],
   "source": [
    "{'ResponseMetadata': {'RequestId': 'd807784c-ed7c-406f-8ee8-fe872f90cca6', 'HTTPStatusCode': 200, 'HTTPHeaders': {'date': 'Fri, 19 Sep 2025 03:26:43 GMT', 'content-type': 'application/json', 'transfer-encoding': 'chunked', 'connection': 'keep-alive', 'x-amzn-requestid': 'd807784c-ed7c-406f-8ee8-fe872f90cca6', 'baggage': 'Self=1-68cccd71-54c1dd5d3da56d131435093e,session.id=eval-session-5b887a5d-0c64-433c-ae75-1a67983ed3d2', 'x-amzn-bedrock-agentcore-runtime-session-id': 'eval-session-5b887a5d-0c64-433c-ae75-1a67983ed3d2', 'x-amzn-trace-id': 'Root=1-68cccd71-092260e9268c77523c6b6179;Self=1-68cccd71-54c1dd5d3da56d131435093e'}, 'RetryAttempts': 0}, 'runtimeSessionId': 'eval-session-5b887a5d-0c64-433c-ae75-1a67983ed3d2', 'traceId': 'Root=1-68cccd71-092260e9268c77523c6b6179;Self=1-68cccd71-54c1dd5d3da56d131435093e', 'baggage': 'Self=1-68cccd71-54c1dd5d3da56d131435093e,session.id=eval-session-5b887a5d-0c64-433c-ae75-1a67983ed3d2', 'contentType': 'application/json', 'statusCode': 200, 'response': <botocore.response.StreamingBody object at 0x11782d7b0>}\n"
   ]
  }
 ],
 "metadata": {
  "kernelspec": {
   "display_name": ".venv (3.12.4)",
   "language": "python",
   "name": "python3"
  },
  "language_info": {
   "codemirror_mode": {
    "name": "ipython",
    "version": 3
   },
   "file_extension": ".py",
   "mimetype": "text/x-python",
   "name": "python",
   "nbconvert_exporter": "python",
   "pygments_lexer": "ipython3",
   "version": "3.12.4"
  }
 },
 "nbformat": 4,
 "nbformat_minor": 5
}
