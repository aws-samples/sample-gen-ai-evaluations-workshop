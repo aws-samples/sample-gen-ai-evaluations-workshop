{
 "cells": [
  {
   "cell_type": "markdown",
   "id": "11ffa8a2",
   "metadata": {},
   "source": [
    "# Basic content filters\n",
    "\n",
    "This first notebook demonstrates the use of basic input and output content filters. We will use Amazon Bedrock Guardrails as the tool, and use both basic trust and safety guardrails as well as topic filtering.\n",
    "\n",
    "We will use the Guardrails API directly so we can obtain usage data for cost tracking. Once you are comfortable with the cost aspect of using guardrails, you can invoke the Guardrail as part of a higher-level SDK like the Strands Agent SDK for convenience."
   ]
  },
  {
   "cell_type": "markdown",
   "id": "5ae1f9cf",
   "metadata": {},
   "source": [
    "## Scenario\n",
    "\n",
    "We are building a chatbot for a city government. This chatbot will answer questions about the community.\n",
    "\n",
    "We do not want the chatbot to answer specific real estate questions about property values or whether a particular property should be bought or sold."
   ]
  },
  {
   "cell_type": "markdown",
   "id": "3af96dbb",
   "metadata": {},
   "source": [
    "## Prerequisites\n",
    "\n",
    "Set up a Python environment and install the requirements in `requirements.txt`. For example, if you are using `uv`, run:\n",
    "\n",
    "```\n",
    "uv venv .venv\n",
    "source .venv/bin/activate\n",
    "uv pip install -r requirements.txt\n",
    "```\n",
    "\n",
    "You need AWS credentials set up in your workspace as well."
   ]
  },
  {
   "cell_type": "markdown",
   "id": "b2ee014b",
   "metadata": {},
   "source": [
    "## Creating the Bedrock Guardrail\n",
    "\n",
    "We will create a guardrail that defines prohibited topics and words to avoid, as well as standard trust and safety rules."
   ]
  },
  {
   "cell_type": "code",
   "execution_count": 1,
   "id": "0dd4378c",
   "metadata": {},
   "outputs": [],
   "source": [
    "import boto3\n",
    "\n",
    "client = boto3.client('bedrock')"
   ]
  },
  {
   "cell_type": "code",
   "execution_count": 4,
   "id": "74bde2bd",
   "metadata": {},
   "outputs": [
    {
     "name": "stdout",
     "output_type": "stream",
     "text": [
      "{'ResponseMetadata': {'RequestId': '093d6493-1082-4ea4-a1fe-c308cf918485', 'HTTPStatusCode': 202, 'HTTPHeaders': {'date': 'Sat, 23 Aug 2025 15:39:43 GMT', 'content-type': 'application/json', 'content-length': '172', 'connection': 'keep-alive', 'x-amzn-requestid': '093d6493-1082-4ea4-a1fe-c308cf918485'}, 'RetryAttempts': 0}, 'guardrailId': 'rylps0tc67le', 'guardrailArn': 'arn:aws:bedrock:us-west-2:XXXXXXXXXXXX:guardrail/rylps0tc67le', 'version': 'DRAFT', 'createdAt': datetime.datetime(2025, 8, 23, 15, 39, 43, 567414, tzinfo=tzutc())}\n"
     ]
    }
   ],
   "source": [
    "import time\n",
    "unique_id = str(round(time.time()))\n",
    "create_response = client.create_guardrail(\n",
    "    name=f\"real-estate-advice-{unique_id}\",\n",
    "    description='Prevents the our model from providing real estate advice.',\n",
    "    topicPolicyConfig={\n",
    "        'topicsConfig': [\n",
    "            {\n",
    "                'name': 'Real Estate Advice',\n",
    "                'definition': 'Providing advice or recommendations about real estate values or whether a specific property should be bought or sold.',\n",
    "                'examples': [\n",
    "                    'Is the real estate market in this neighborhood hot right now?',\n",
    "                    'Is this house worth that much?',\n",
    "                    'Should I sell now or wait until interest rates go down?',\n",
    "                ],\n",
    "                'type': 'DENY'\n",
    "            }\n",
    "        ]\n",
    "    },\n",
    "    contentPolicyConfig={\n",
    "        'filtersConfig': [\n",
    "            {\n",
    "                'type': 'SEXUAL',\n",
    "                'inputStrength': 'HIGH',\n",
    "                'outputStrength': 'HIGH'\n",
    "            },\n",
    "            {\n",
    "                'type': 'VIOLENCE',\n",
    "                'inputStrength': 'HIGH',\n",
    "                'outputStrength': 'HIGH'\n",
    "            },\n",
    "            {\n",
    "                'type': 'HATE',\n",
    "                'inputStrength': 'HIGH',\n",
    "                'outputStrength': 'HIGH'\n",
    "            },\n",
    "            {\n",
    "                'type': 'INSULTS',\n",
    "                'inputStrength': 'HIGH',\n",
    "                'outputStrength': 'HIGH'\n",
    "            },\n",
    "            {\n",
    "                'type': 'MISCONDUCT',\n",
    "                'inputStrength': 'HIGH',\n",
    "                'outputStrength': 'HIGH'\n",
    "            },\n",
    "            {\n",
    "                'type': 'PROMPT_ATTACK',\n",
    "                'inputStrength': 'HIGH',\n",
    "                'outputStrength': 'NONE'\n",
    "            }\n",
    "        ]\n",
    "    },\n",
    "    wordPolicyConfig={\n",
    "        'wordsConfig': [\n",
    "            {'text': 'real estate advice'},\n",
    "            {'text': 'good time to sell'},\n",
    "            {'text': 'good time to buy'},\n",
    "            {'text': 'real estate agent recommendations'}\n",
    "        ],\n",
    "        'managedWordListsConfig': [\n",
    "            {'type': 'PROFANITY'}\n",
    "        ]\n",
    "    },\n",
    "    sensitiveInformationPolicyConfig={\n",
    "        'piiEntitiesConfig': [\n",
    "            {'type': 'EMAIL', 'action': 'ANONYMIZE'},\n",
    "            {'type': 'PHONE', 'action': 'ANONYMIZE'},\n",
    "            {'type': 'NAME', 'action': 'ANONYMIZE'},\n",
    "            {'type': 'US_SOCIAL_SECURITY_NUMBER', 'action': 'BLOCK'},\n",
    "            {'type': 'US_BANK_ACCOUNT_NUMBER', 'action': 'BLOCK'},\n",
    "            {'type': 'CREDIT_DEBIT_CARD_NUMBER', 'action': 'BLOCK'}\n",
    "        ],\n",
    "        'regexesConfig': [\n",
    "            {\n",
    "                'name': 'Account Number',\n",
    "                'description': 'Matches account numbers in the format XXXXXX1234',\n",
    "                'pattern': r'\\b\\d{6}\\d{4}\\b',\n",
    "                'action': 'ANONYMIZE'\n",
    "            }\n",
    "        ]\n",
    "    },\n",
    "    blockedInputMessaging=\"\"\"I can provide general info about the community, but can't fully address your request here. For personalized help or detailed questions, please contact our customer service team directly. For security reasons, avoid sharing sensitive information through this channel. If you have a general HOA question, feel free to ask without including personal details. \"\"\",\n",
    "    blockedOutputsMessaging=\"\"\"I can provide general info about the community, but can't fully address your request here. For personalized help or detailed questions, please contact our customer service team directly. For security reasons, avoid sharing sensitive information through this channel. If you have a general HOA question, feel free to ask without including personal details. \"\"\",\n",
    "    tags=[\n",
    "        {'key': 'purpose', 'value': 'real-estate-advice-prevention'},\n",
    "        {'key': 'environment', 'value': 'production'}\n",
    "    ]\n",
    ")\n",
    "\n",
    "print(create_response)"
   ]
  },
  {
   "cell_type": "code",
   "execution_count": 5,
   "id": "dde6f2a3",
   "metadata": {},
   "outputs": [],
   "source": [
    "version_response = client.create_guardrail_version(\n",
    "    guardrailIdentifier=create_response['guardrailId'],\n",
    "    description='First version of guardrail'\n",
    ")"
   ]
  },
  {
   "cell_type": "code",
   "execution_count": 6,
   "id": "fb4ac07b",
   "metadata": {},
   "outputs": [
    {
     "data": {
      "text/plain": [
       "'rylps0tc67le'"
      ]
     },
     "execution_count": 6,
     "metadata": {},
     "output_type": "execute_result"
    }
   ],
   "source": [
    "guardrail_id = create_response['guardrailId']\n",
    "guardrail_id"
   ]
  },
  {
   "cell_type": "code",
   "execution_count": 7,
   "id": "15e3ab8a",
   "metadata": {},
   "outputs": [
    {
     "data": {
      "text/plain": [
       "'1'"
      ]
     },
     "execution_count": 7,
     "metadata": {},
     "output_type": "execute_result"
    }
   ],
   "source": [
    "guardrail_version = version_response['version']\n",
    "guardrail_version"
   ]
  },
  {
   "cell_type": "markdown",
   "id": "7119b017",
   "metadata": {},
   "source": [
    "## Using the guardrail\n",
    "\n",
    "We will use the guardrail to inspect the user's prompt and the model's output."
   ]
  },
  {
   "cell_type": "markdown",
   "id": "7aaf5f20",
   "metadata": {},
   "source": [
    "### Setup"
   ]
  },
  {
   "cell_type": "code",
   "execution_count": 8,
   "id": "b985a2c6",
   "metadata": {},
   "outputs": [],
   "source": [
    "bedrock_runtime = boto3.client('bedrock-runtime')"
   ]
  },
  {
   "cell_type": "code",
   "execution_count": 9,
   "id": "d91d353c",
   "metadata": {},
   "outputs": [],
   "source": [
    "model_id = 'us.amazon.nova-pro-v1:0'"
   ]
  },
  {
   "cell_type": "code",
   "execution_count": 10,
   "id": "72b8c120",
   "metadata": {},
   "outputs": [],
   "source": [
    "# Convenience method that invokes the model using the Converse API.\n",
    "# It returns a tuple of the output text and input and output token usage.\n",
    "def chat(messages, system_prompts, model_id = model_id):\n",
    "\n",
    "    # Send the message.\n",
    "    response = bedrock_runtime.converse(\n",
    "        modelId=model_id,\n",
    "        messages=messages,\n",
    "        system=system_prompts,\n",
    "    )\n",
    "\n",
    "    # Log token usage.\n",
    "    token_usage = response['usage']\n",
    "    output_message = response['output']['message']\n",
    "\n",
    "    return output_message['content'][0]['text'], token_usage['inputTokens'], token_usage['outputTokens']\n"
   ]
  },
  {
   "cell_type": "code",
   "execution_count": 12,
   "id": "7beaba3d",
   "metadata": {},
   "outputs": [],
   "source": [
    "# Convenience method to call the Guardrail. \n",
    "def analyze_text(query, source, guard_content, guardrail_id, guardrail_version, grounding_source = None):\n",
    "    try:\n",
    "        content = [\n",
    "            {\n",
    "                \"text\": {\n",
    "                    \"text\": query,\n",
    "                    \"qualifiers\": [\"query\"]\n",
    "                }\n",
    "            },\n",
    "            {\n",
    "                \"text\": {\n",
    "                    \"text\": guard_content,\n",
    "                    \"qualifiers\": [\"guard_content\"]\n",
    "                }\n",
    "            }\n",
    "        ]\n",
    "\n",
    "        if grounding_source is not None:\n",
    "            content.append(\n",
    "                {\n",
    "                    \"text\": {\n",
    "                        \"text\": grounding_source,\n",
    "                        \"qualifiers\": [\"grounding_source\"]\n",
    "                    }\n",
    "                }\n",
    "            )\n",
    "\n",
    "        response = bedrock_runtime.apply_guardrail(\n",
    "            guardrailIdentifier=guardrail_id,\n",
    "            guardrailVersion=guardrail_version,\n",
    "            source=source,\n",
    "            content=content\n",
    "        )\n",
    "        \n",
    "        action = response.get(\"action\", \"\")\n",
    "        if action == \"NONE\":\n",
    "            return True, \"\", response\n",
    "        elif action == \"GUARDRAIL_INTERVENED\":\n",
    "            message = response.get(\"outputs\", [{}])[0].get(\"text\", \"Guardrail intervened\")\n",
    "            return False, message, response\n",
    "        else:\n",
    "            return False, f\"Unknown action: {action}\", response\n",
    "    except Exception as e:\n",
    "        return False, f\"Error applying guardrail: {e}\", None"
   ]
  },
  {
   "cell_type": "code",
   "execution_count": 16,
   "id": "b0230f88",
   "metadata": {},
   "outputs": [],
   "source": [
    "# convenience method to calculate Guardrail cost\n",
    "def calculate_guardrail_cost(guardrail_response):\n",
    "    usage = guardrail_response['usage']\n",
    "\n",
    "    content_filter_cost = 0.15 # per 1000 units\n",
    "    content_filter_image_cost = 0.00075 # per image\n",
    "    denied_topic_cost = 0.15 # per 1000 units\n",
    "    sensitive_filter_cost = 0.1 # per 1000 units\n",
    "    grounding_cost = 0.1 # per 1000 units\n",
    "    ar_cost = 0.17 # per 1000 units per policy\n",
    "    word_cost = 0 \n",
    "\n",
    "    cost = usage['topicPolicyUnits'] * denied_topic_cost / 1000.0 + \\\n",
    "        usage['contentPolicyUnits'] * content_filter_cost / 1000.0 + \\\n",
    "        usage['wordPolicyUnits'] * word_cost + \\\n",
    "        usage['sensitiveInformationPolicyUnits'] * sensitive_filter_cost / 1000.0 + \\\n",
    "        usage['contextualGroundingPolicyUnits'] * grounding_cost / 1000.0 + \\\n",
    "        usage['contentPolicyImageUnits'] * content_filter_image_cost + \\\n",
    "        usage['automatedReasoningPolicyUnits'] * ar_cost  / 1000.0 * usage['automatedReasoningPolicies']\n",
    "\n",
    "    return cost"
   ]
  },
  {
   "cell_type": "code",
   "execution_count": 20,
   "id": "cc4a7fe1",
   "metadata": {},
   "outputs": [],
   "source": [
    "# convenience method to calculate Nova Pro cost, not considering prompt caching\n",
    "def calculate_llm_cost(tokens_in, tokens_out):\n",
    "    nova_in_cost = 0.0008 # per thousand tokens\n",
    "    nova_out_cost = 0.0032 # per thousand tokens\n",
    "\n",
    "    cost = nova_in_cost * tokens_in / 1000.0 + \\\n",
    "        nova_out_cost * tokens_out / 1000.0\n",
    "    \n",
    "    return cost"
   ]
  },
  {
   "cell_type": "markdown",
   "id": "c645aa8e",
   "metadata": {},
   "source": [
    "### Inspect the input"
   ]
  },
  {
   "cell_type": "code",
   "execution_count": 11,
   "id": "b8d85afd",
   "metadata": {},
   "outputs": [],
   "source": [
    "system_prompts = [{\"text\": \"You are a helpful assistant for our city. Your job is to inform and assist residents. You cannot provide any real estate advice.\"}]\n",
    "message_1 = {\n",
    "    \"role\": \"user\",\n",
    "    \"content\": [{\"text\": \"Tell me about San Francisco.\"}]\n",
    "}"
   ]
  },
  {
   "cell_type": "code",
   "execution_count": 13,
   "id": "a5d83b47",
   "metadata": {},
   "outputs": [],
   "source": [
    "query = message_1['content'][0]['text'] \n",
    "prompt_passed, prompt_message, gr_response = analyze_text(\n",
    "     query,\n",
    "     \"INPUT\", \n",
    "     query, \n",
    "     guardrail_id,\n",
    "     guardrail_version)"
   ]
  },
  {
   "cell_type": "code",
   "execution_count": 14,
   "id": "dc9a2492",
   "metadata": {},
   "outputs": [
    {
     "name": "stdout",
     "output_type": "stream",
     "text": [
      "Prompt passed: True\n"
     ]
    }
   ],
   "source": [
    "print(f\"Prompt passed: {prompt_passed}\")"
   ]
  },
  {
   "cell_type": "code",
   "execution_count": 15,
   "id": "ee51f4b8",
   "metadata": {},
   "outputs": [
    {
     "name": "stdout",
     "output_type": "stream",
     "text": [
      "Guardrail message: \n"
     ]
    }
   ],
   "source": [
    "print(f\"Guardrail message: {prompt_message}\")"
   ]
  },
  {
   "cell_type": "code",
   "execution_count": 17,
   "id": "b38e2fc0",
   "metadata": {},
   "outputs": [
    {
     "data": {
      "text/plain": [
       "0.00039999999999999996"
      ]
     },
     "execution_count": 17,
     "metadata": {},
     "output_type": "execute_result"
    }
   ],
   "source": [
    "calculate_guardrail_cost(gr_response)"
   ]
  },
  {
   "cell_type": "markdown",
   "id": "1f781618",
   "metadata": {},
   "source": [
    "### Invoke the LLM"
   ]
  },
  {
   "cell_type": "code",
   "execution_count": 18,
   "id": "048504a9",
   "metadata": {},
   "outputs": [],
   "source": [
    "r, t_in, t_out = chat([message_1], system_prompts)"
   ]
  },
  {
   "cell_type": "code",
   "execution_count": 19,
   "id": "489040f5",
   "metadata": {},
   "outputs": [
    {
     "name": "stdout",
     "output_type": "stream",
     "text": [
      "Response: Certainly! San Francisco is a vibrant and culturally rich city located in Northern California. Here are some key points about San Francisco:\n",
      "\n",
      "### Geography\n",
      "- **Location:** Situated on a peninsula between the Pacific Ocean and San Francisco Bay.\n",
      "- **Landmarks:** Famous for its steep hills, dense fog, and iconic landmarks like the Golden Gate Bridge and Alcatraz Island.\n",
      "\n",
      "### History\n",
      "- **Founding:** Established in 1776 by Spanish colonists.\n",
      "- **Gold Rush:** Experienced rapid growth during the California Gold Rush in the mid-19th century.\n",
      "- **Earthquake and Fire:** Rebuilt after the 1906 earthquake and subsequent fires.\n",
      "\n",
      "### Culture\n",
      "- **Diversity:** Home to a diverse population with significant communities of Asian, Latino, and European descent.\n",
      "- **Arts:** Rich in museums, theaters, and music venues. Notable institutions include the San Francisco Museum of Modern Art and the San Francisco Symphony.\n",
      "\n",
      "### Economy\n",
      "- **Tech Hub:** Part of the Silicon Valley ecosystem, hosting numerous tech companies and startups.\n",
      "- **Tourism:** A major tourist destination, attracting millions of visitors annually.\n",
      "\n",
      "### Transportation\n",
      "- **Public Transit:** Served by Muni (buses, streetcars, and cable cars), BART (Bay Area Rapid Transit), and Caltrain.\n",
      "- **Cycling:** Known for being bike-friendly with many cycling paths and initiatives.\n",
      "\n",
      "### Education\n",
      "- **Universities:** Home to several prestigious institutions, including the University of California, San Francisco (UCSF) and San Francisco State University.\n",
      "\n",
      "### Recreation\n",
      "- **Parks:** Features numerous parks, including Golden Gate Park, which is larger than New York\u2019s Central Park.\n",
      "- **Outdoor Activities:** Opportunities for hiking, biking, and water sports.\n",
      "\n",
      "### Cuisine\n",
      "- **Diverse:** Renowned for its diverse food scene, including fresh seafood, international cuisine, and innovative farm-to-table restaurants.\n",
      "\n",
      "### Notable Neighborhoods\n",
      "- **Haight-Ashbury:** Known for its counter-culture history.\n",
      "- **Chinatown:** One of the largest and oldest Chinatowns in North America.\n",
      "- **Mission District:** Famous for its murals and Latino culture.\n",
      "\n",
      "If you have any specific questions or need more detailed information about San Francisco, feel free to ask!\n",
      "Tokens: 32, 450\n"
     ]
    }
   ],
   "source": [
    "print(f\"Response: {r}\")\n",
    "print(f\"Tokens: {t_in}, {t_out}\")"
   ]
  },
  {
   "cell_type": "code",
   "execution_count": 21,
   "id": "526842df",
   "metadata": {},
   "outputs": [
    {
     "data": {
      "text/plain": [
       "0.0014656"
      ]
     },
     "execution_count": 21,
     "metadata": {},
     "output_type": "execute_result"
    }
   ],
   "source": [
    "calculate_llm_cost(t_in, t_out)"
   ]
  },
  {
   "cell_type": "markdown",
   "id": "6037f740",
   "metadata": {},
   "source": [
    "### Inspect the output"
   ]
  },
  {
   "cell_type": "code",
   "execution_count": 22,
   "id": "120b2883",
   "metadata": {},
   "outputs": [],
   "source": [
    "prompt_passed, prompt_message, gr_response = analyze_text(\n",
    "     query,\n",
    "     \"OUTPUT\", \n",
    "     r, \n",
    "     guardrail_id,\n",
    "     guardrail_version)"
   ]
  },
  {
   "cell_type": "code",
   "execution_count": 24,
   "id": "07ba37c5",
   "metadata": {},
   "outputs": [
    {
     "name": "stdout",
     "output_type": "stream",
     "text": [
      "Prompt passed: True\n",
      "Guardrail message: \n"
     ]
    }
   ],
   "source": [
    "print(f\"Prompt passed: {prompt_passed}\")\n",
    "print(f\"Guardrail message: {prompt_message}\")"
   ]
  },
  {
   "cell_type": "code",
   "execution_count": 25,
   "id": "77b0a6cc",
   "metadata": {},
   "outputs": [
    {
     "data": {
      "text/plain": [
       "0.0012"
      ]
     },
     "execution_count": 25,
     "metadata": {},
     "output_type": "execute_result"
    }
   ],
   "source": [
    "calculate_guardrail_cost(gr_response)"
   ]
  },
  {
   "cell_type": "markdown",
   "id": "b9d5457c",
   "metadata": {},
   "source": [
    "## Conclusion\n",
    "\n",
    "This notebook showed the simple application of basic trust and safety guardrails, included prohibited topics.\n",
    "\n",
    "As written, the costs incurred are:\n",
    "\n",
    "* LLM call: $0.0014656\n",
    "* Input guardrail: $0.00039999999999999996\n",
    "* Output guardrail: $0.0012"
   ]
  },
  {
   "cell_type": "code",
   "execution_count": 27,
   "id": "e54208fa",
   "metadata": {},
   "outputs": [
    {
     "data": {
      "image/png": "[encoded data removed]",
      "text/plain": [
       "<Figure size 800x600 with 1 Axes>"
      ]
     },
     "metadata": {},
     "output_type": "display_data"
    }
   ],
   "source": [
    "import matplotlib.pyplot as plt\n",
    "\n",
    "estimates = [0.0014656, 0.00039999999999999996, 0.0012]  \n",
    "labels = [\"LLM\", \"Input guardrail\", \"Output guardrail\"]\n",
    "\n",
    "# Create the bar chart\n",
    "plt.figure(figsize=(8, 6))\n",
    "plt.bar(labels, estimates)\n",
    "\n",
    "# Customize the chart\n",
    "plt.title('Cost Estimates Comparison')\n",
    "plt.ylabel('Cost ($)')\n",
    "\n",
    "# Add value labels on top of each bar\n",
    "for i, v in enumerate(estimates):\n",
    "    plt.text(i, v, str(v), ha='center', va='bottom')\n",
    "\n",
    "# Display the chart\n",
    "plt.show()"
   ]
  },
  {
   "cell_type": "code",
   "execution_count": null,
   "id": "1c658def",
   "metadata": {},
   "outputs": [],
   "source": []
  }
 ],
 "metadata": {
  "kernelspec": {
   "display_name": ".venv",
   "language": "python",
   "name": "python3"
  },
  "language_info": {
   "codemirror_mode": {
    "name": "ipython",
    "version": 3
   },
   "file_extension": ".py",
   "mimetype": "text/x-python",
   "name": "python",
   "nbconvert_exporter": "python",
   "pygments_lexer": "ipython3",
   "version": "3.13.0"
  }
 },
 "nbformat": 4,
 "nbformat_minor": 5
}