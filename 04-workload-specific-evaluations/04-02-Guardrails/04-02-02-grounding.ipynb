{
 "cells": [
  {
   "cell_type": "markdown",
   "id": "11ffa8a2",
   "metadata": {},
   "source": [
    "# Contextual grounding\n",
    "\n",
    "In this notebook, we'll build on the guardrails from the first notebook and add a contextual grounding check to reduced hallucinations."
   ]
  },
  {
   "cell_type": "markdown",
   "id": "5ae1f9cf",
   "metadata": {},
   "source": [
    "## Scenario\n",
    "\n",
    "As a reminder, we are building a chatbot for a city government. This chatbot will answer questions about the community.\n",
    "\n",
    "In the first notebook, we used guardrails to prevent the chatbot from answering specific real estate questions about property values or whether a particular property should be bought or sold.\n",
    "\n",
    "Now we'll add a grounding element to make sure that the chatbot is providing accurate, up-to-date information based on references we provide. Specifically, we have a PDF that has a municipal park schedule that the chatbot can use to answer questions."
   ]
  },
  {
   "cell_type": "markdown",
   "id": "43e4732c",
   "metadata": {},
   "source": [
    "## Prerequisites\n",
    "\n",
    "The prerequisites are the same as for the first notebook."
   ]
  },
  {
   "cell_type": "markdown",
   "id": "b2ee014b",
   "metadata": {},
   "source": [
    "## Creating the Bedrock Guardrail"
   ]
  },
  {
   "cell_type": "code",
   "execution_count": 1,
   "id": "0dd4378c",
   "metadata": {},
   "outputs": [],
   "source": [
    "import boto3\n",
    "\n",
    "client = boto3.client('bedrock')"
   ]
  },
  {
   "cell_type": "code",
   "execution_count": 2,
   "id": "74bde2bd",
   "metadata": {},
   "outputs": [
    {
     "name": "stdout",
     "output_type": "stream",
     "text": [
      "{'ResponseMetadata': {'RequestId': 'd092a2a9-af9a-48c1-9b06-092949eb0a1b', 'HTTPStatusCode': 202, 'HTTPHeaders': {'date': 'Sun, 24 Aug 2025 15:05:26 GMT', 'content-type': 'application/json', 'content-length': '172', 'connection': 'keep-alive', 'x-amzn-requestid': 'd092a2a9-af9a-48c1-9b06-092949eb0a1b'}, 'RetryAttempts': 0}, 'guardrailId': 'm77qat26bkm3', 'guardrailArn': 'arn:aws:bedrock:us-west-2:102165494304:guardrail/m77qat26bkm3', 'version': 'DRAFT', 'createdAt': datetime.datetime(2025, 8, 24, 15, 5, 26, 474350, tzinfo=tzutc())}\n"
     ]
    }
   ],
   "source": [
    "import time\n",
    "unique_id = str(round(time.time()))\n",
    "create_response = client.create_guardrail(\n",
    "    name=f\"real-estate-advice-with-grounding-{unique_id}\",\n",
    "    description='Prevents the our model from providing real estate advice.',\n",
    "    topicPolicyConfig={\n",
    "        'topicsConfig': [\n",
    "            {\n",
    "                'name': 'Real Estate Advice',\n",
    "                'definition': 'Providing advice or recommendations about real estate values or whether a specific property should be bought or sold.',\n",
    "                'examples': [\n",
    "                    'Is the real estate market in this neighborhood hot right now?',\n",
    "                    'Is this house worth that much?',\n",
    "                    'Should I sell now or wait until interest rates go down?',\n",
    "                ],\n",
    "                'type': 'DENY'\n",
    "            }\n",
    "        ]\n",
    "    },\n",
    "    contentPolicyConfig={\n",
    "        'filtersConfig': [\n",
    "            {\n",
    "                'type': 'SEXUAL',\n",
    "                'inputStrength': 'HIGH',\n",
    "                'outputStrength': 'HIGH'\n",
    "            },\n",
    "            {\n",
    "                'type': 'VIOLENCE',\n",
    "                'inputStrength': 'HIGH',\n",
    "                'outputStrength': 'HIGH'\n",
    "            },\n",
    "            {\n",
    "                'type': 'HATE',\n",
    "                'inputStrength': 'HIGH',\n",
    "                'outputStrength': 'HIGH'\n",
    "            },\n",
    "            {\n",
    "                'type': 'INSULTS',\n",
    "                'inputStrength': 'HIGH',\n",
    "                'outputStrength': 'HIGH'\n",
    "            },\n",
    "            {\n",
    "                'type': 'MISCONDUCT',\n",
    "                'inputStrength': 'HIGH',\n",
    "                'outputStrength': 'HIGH'\n",
    "            },\n",
    "            {\n",
    "                'type': 'PROMPT_ATTACK',\n",
    "                'inputStrength': 'HIGH',\n",
    "                'outputStrength': 'NONE'\n",
    "            }\n",
    "        ]\n",
    "    },\n",
    "    wordPolicyConfig={\n",
    "        'wordsConfig': [\n",
    "            {'text': 'real estate advice'},\n",
    "            {'text': 'good time to sell'},\n",
    "            {'text': 'good time to buy'},\n",
    "            {'text': 'real estate agent recommendations'}\n",
    "        ],\n",
    "        'managedWordListsConfig': [\n",
    "            {'type': 'PROFANITY'}\n",
    "        ]\n",
    "    },\n",
    "    sensitiveInformationPolicyConfig={\n",
    "        'piiEntitiesConfig': [\n",
    "            {'type': 'EMAIL', 'action': 'ANONYMIZE'},\n",
    "            {'type': 'PHONE', 'action': 'ANONYMIZE'},\n",
    "            {'type': 'NAME', 'action': 'ANONYMIZE'},\n",
    "            {'type': 'US_SOCIAL_SECURITY_NUMBER', 'action': 'BLOCK'},\n",
    "            {'type': 'US_BANK_ACCOUNT_NUMBER', 'action': 'BLOCK'},\n",
    "            {'type': 'CREDIT_DEBIT_CARD_NUMBER', 'action': 'BLOCK'}\n",
    "        ],\n",
    "        'regexesConfig': [\n",
    "            {\n",
    "                'name': 'Account Number',\n",
    "                'description': 'Matches account numbers in the format XXXXXX1234',\n",
    "                'pattern': r'\\b\\d{6}\\d{4}\\b',\n",
    "                'action': 'ANONYMIZE'\n",
    "            }\n",
    "        ]\n",
    "    },\n",
    "    contextualGroundingPolicyConfig={\n",
    "        'filtersConfig': [\n",
    "            {\n",
    "                'type': 'GROUNDING',\n",
    "                'threshold': 0.75\n",
    "            },\n",
    "            {\n",
    "                'type': 'RELEVANCE',\n",
    "                'threshold': 0.75\n",
    "            }\n",
    "        ]\n",
    "    },\n",
    "    blockedInputMessaging=\"\"\"I can provide general info about the community, but can't fully address your request here. For personalized help or detailed questions, please contact our customer service team directly. For security reasons, avoid sharing sensitive information through this channel. If you have a general HOA question, feel free to ask without including personal details. \"\"\",\n",
    "    blockedOutputsMessaging=\"\"\"I can provide general info about the community, but can't fully address your request here. For personalized help or detailed questions, please contact our customer service team directly. For security reasons, avoid sharing sensitive information through this channel. If you have a general HOA question, feel free to ask without including personal details. \"\"\",\n",
    "    tags=[\n",
    "        {'key': 'purpose', 'value': 'real-estate-advice-prevention'},\n",
    "        {'key': 'environment', 'value': 'production'}\n",
    "    ]\n",
    ")\n",
    "\n",
    "print(create_response)"
   ]
  },
  {
   "cell_type": "code",
   "execution_count": 3,
   "id": "dde6f2a3",
   "metadata": {},
   "outputs": [],
   "source": [
    "version_response = client.create_guardrail_version(\n",
    "    guardrailIdentifier=create_response['guardrailId'],\n",
    "    description='Version of Guardrail'\n",
    ")"
   ]
  },
  {
   "cell_type": "code",
   "execution_count": 4,
   "id": "fb4ac07b",
   "metadata": {},
   "outputs": [
    {
     "data": {
      "text/plain": [
       "'m77qat26bkm3'"
      ]
     },
     "execution_count": 4,
     "metadata": {},
     "output_type": "execute_result"
    }
   ],
   "source": [
    "guardrail_id = create_response['guardrailId']\n",
    "guardrail_id"
   ]
  },
  {
   "cell_type": "code",
   "execution_count": 5,
   "id": "15e3ab8a",
   "metadata": {},
   "outputs": [
    {
     "data": {
      "text/plain": [
       "'1'"
      ]
     },
     "execution_count": 5,
     "metadata": {},
     "output_type": "execute_result"
    }
   ],
   "source": [
    "guardrail_version = version_response['version']\n",
    "guardrail_version"
   ]
  },
  {
   "cell_type": "markdown",
   "id": "7119b017",
   "metadata": {},
   "source": [
    "## Using the guardrail\n",
    "\n",
    "We will again use the guardrail to inspect the user's input prompt and the response from the LLM."
   ]
  },
  {
   "cell_type": "markdown",
   "id": "64e6a7c3",
   "metadata": {},
   "source": [
    "### Setup"
   ]
  },
  {
   "cell_type": "code",
   "execution_count": 6,
   "id": "b985a2c6",
   "metadata": {},
   "outputs": [],
   "source": [
    "bedrock_runtime = boto3.client('bedrock-runtime')"
   ]
  },
  {
   "cell_type": "code",
   "execution_count": 7,
   "id": "d91d353c",
   "metadata": {},
   "outputs": [],
   "source": [
    "model_id = 'us.amazon.nova-pro-v1:0'"
   ]
  },
  {
   "cell_type": "code",
   "execution_count": 8,
   "id": "72b8c120",
   "metadata": {},
   "outputs": [],
   "source": [
    "def chat(messages, system_prompts, model_id = model_id):\n",
    "\n",
    "    # Send the message.\n",
    "    response = bedrock_runtime.converse(\n",
    "        modelId=model_id,\n",
    "        messages=messages,\n",
    "        system=system_prompts,\n",
    "    )\n",
    "\n",
    "    # Log token usage.\n",
    "    token_usage = response['usage']\n",
    "    output_message = response['output']['message']\n",
    "\n",
    "    return output_message['content'][0]['text'], token_usage['inputTokens'], token_usage['outputTokens']\n"
   ]
  },
  {
   "cell_type": "code",
   "execution_count": 9,
   "id": "7beaba3d",
   "metadata": {},
   "outputs": [],
   "source": [
    "def analyze_text(query, source, guard_content, guardrail_id, guardrail_version, grounding_source = None):\n",
    "    try:\n",
    "        content = [\n",
    "            {\n",
    "                \"text\": {\n",
    "                    \"text\": query,\n",
    "                    \"qualifiers\": [\"query\"]\n",
    "                }\n",
    "            },\n",
    "            {\n",
    "                \"text\": {\n",
    "                    \"text\": guard_content,\n",
    "                    \"qualifiers\": [\"guard_content\"]\n",
    "                }\n",
    "            }\n",
    "        ]\n",
    "\n",
    "        if grounding_source is not None:\n",
    "            content.append(\n",
    "                {\n",
    "                    \"text\": {\n",
    "                        \"text\": grounding_source,\n",
    "                        \"qualifiers\": [\"grounding_source\"]\n",
    "                    }\n",
    "                }\n",
    "            )\n",
    "\n",
    "        response = bedrock_runtime.apply_guardrail(\n",
    "            guardrailIdentifier=guardrail_id,\n",
    "            guardrailVersion=guardrail_version,\n",
    "            source=source,\n",
    "            content=content\n",
    "        )\n",
    "        \n",
    "        action = response.get(\"action\", \"\")\n",
    "        if action == \"NONE\":\n",
    "            return True, \"\", response\n",
    "        elif action == \"GUARDRAIL_INTERVENED\":\n",
    "            message = response.get(\"outputs\", [{}])[0].get(\"text\", \"Guardrail intervened\")\n",
    "            return False, message, response\n",
    "        else:\n",
    "            return False, f\"Unknown action: {action}\", response\n",
    "    except Exception as e:\n",
    "        return False, f\"Error applying guardrail: {e}\", None"
   ]
  },
  {
   "cell_type": "code",
   "execution_count": 10,
   "id": "b0230f88",
   "metadata": {},
   "outputs": [],
   "source": [
    "def calculate_guardrail_cost(guardrail_response):\n",
    "    usage = guardrail_response['usage']\n",
    "\n",
    "    content_filter_cost = 0.15 # per 1000 units\n",
    "    content_filter_image_cost = 0.00075 # per image\n",
    "    denied_topic_cost = 0.15 # per 1000 units\n",
    "    sensitive_filter_cost = 0.1 # per 1000 units\n",
    "    grounding_cost = 0.1 # per 1000 units\n",
    "    ar_cost = 0.17 # per 1000 units per policy\n",
    "    word_cost = 0 \n",
    "\n",
    "    cost = usage['topicPolicyUnits'] * denied_topic_cost / 1000.0 + \\\n",
    "        usage['contentPolicyUnits'] * content_filter_cost / 1000.0 + \\\n",
    "        usage['wordPolicyUnits'] * word_cost + \\\n",
    "        usage['sensitiveInformationPolicyUnits'] * sensitive_filter_cost / 1000.0 + \\\n",
    "        usage['contextualGroundingPolicyUnits'] * grounding_cost / 1000.0 + \\\n",
    "        usage['contentPolicyImageUnits'] * content_filter_image_cost + \\\n",
    "        usage['automatedReasoningPolicyUnits'] * ar_cost  / 1000.0 * usage['automatedReasoningPolicies']\n",
    "\n",
    "    return cost"
   ]
  },
  {
   "cell_type": "code",
   "execution_count": 11,
   "id": "dac61d2d",
   "metadata": {},
   "outputs": [],
   "source": [
    "# convenience method to calculate Nova Pro cost, not considering prompt caching\n",
    "def calculate_llm_cost(tokens_in, tokens_out):\n",
    "    nova_in_cost = 0.0008 # per thousand tokens\n",
    "    nova_out_cost = 0.0032 # per thousand tokens\n",
    "\n",
    "    cost = nova_in_cost * tokens_in / 1000.0 + \\\n",
    "        nova_out_cost * tokens_out / 1000.0\n",
    "    \n",
    "    return cost"
   ]
  },
  {
   "cell_type": "code",
   "execution_count": 12,
   "id": "2ac03dac",
   "metadata": {},
   "outputs": [],
   "source": [
    "input_document_path = 'calendar.pdf'\n",
    "with open(input_document_path, 'rb') as input_document_file:\n",
    "    input_document = input_document_file.read()"
   ]
  },
  {
   "cell_type": "markdown",
   "id": "e021471c",
   "metadata": {},
   "source": [
    "### Inspect the input"
   ]
  },
  {
   "cell_type": "code",
   "execution_count": 13,
   "id": "b8d85afd",
   "metadata": {},
   "outputs": [],
   "source": [
    "system_prompts = [{\"text\": \"You are a helpful assistant for our city. Your job is to inform and assist residents. You cannot provide any real estate advice. You can answer questions about the city calendar only using the provided document.\"}]\n",
    "message_1 = {\n",
    "    \"role\": \"user\",\n",
    "    \"content\": [\n",
    "        {\"text\": \"When is the next bandshell concert?\"},\n",
    "        {\n",
    "            \"document\": {\n",
    "                \"name\": \"Calendar\",\n",
    "                \"format\": \"pdf\",\n",
    "                \"source\": {\n",
    "                    \"bytes\": input_document\n",
    "                }\n",
    "            }\n",
    "        }\n",
    "    ]\n",
    "}"
   ]
  },
  {
   "cell_type": "code",
   "execution_count": 14,
   "id": "a5d83b47",
   "metadata": {},
   "outputs": [],
   "source": [
    "query = message_1['content'][0]['text'] \n",
    "prompt_passed, prompt_message, gr_response = analyze_text(\n",
    "     query,\n",
    "     \"INPUT\", \n",
    "     query, \n",
    "     guardrail_id,\n",
    "     guardrail_version)"
   ]
  },
  {
   "cell_type": "code",
   "execution_count": 15,
   "id": "dc9a2492",
   "metadata": {},
   "outputs": [
    {
     "name": "stdout",
     "output_type": "stream",
     "text": [
      "Prompt passed: True\n"
     ]
    }
   ],
   "source": [
    "print(f\"Prompt passed: {prompt_passed}\")"
   ]
  },
  {
   "cell_type": "code",
   "execution_count": 16,
   "id": "ee51f4b8",
   "metadata": {},
   "outputs": [
    {
     "name": "stdout",
     "output_type": "stream",
     "text": [
      "Guardrail message: \n"
     ]
    }
   ],
   "source": [
    "print(f\"Guardrail message: {prompt_message}\")"
   ]
  },
  {
   "cell_type": "code",
   "execution_count": 17,
   "id": "b38e2fc0",
   "metadata": {},
   "outputs": [
    {
     "data": {
      "text/plain": [
       "0.00039999999999999996"
      ]
     },
     "execution_count": 17,
     "metadata": {},
     "output_type": "execute_result"
    }
   ],
   "source": [
    "calculate_guardrail_cost(gr_response)"
   ]
  },
  {
   "cell_type": "markdown",
   "id": "c0379fd8",
   "metadata": {},
   "source": [
    "### Invoke the LLM"
   ]
  },
  {
   "cell_type": "code",
   "execution_count": 18,
   "id": "048504a9",
   "metadata": {},
   "outputs": [],
   "source": [
    "r, t_in, t_out = chat([message_1], system_prompts)"
   ]
  },
  {
   "cell_type": "code",
   "execution_count": 19,
   "id": "489040f5",
   "metadata": {},
   "outputs": [
    {
     "name": "stdout",
     "output_type": "stream",
     "text": [
      "Response: The next bandshell concert is on Wednesday, August 20, 2025 at 4:00 PM at Golden Gate Bandshell.\n",
      "Tokens: 24199, 32\n"
     ]
    }
   ],
   "source": [
    "print(f\"Response: {r}\")\n",
    "print(f\"Tokens: {t_in}, {t_out}\")"
   ]
  },
  {
   "cell_type": "code",
   "execution_count": 20,
   "id": "34b2ce3e",
   "metadata": {},
   "outputs": [
    {
     "data": {
      "text/plain": [
       "0.0194616"
      ]
     },
     "execution_count": 20,
     "metadata": {},
     "output_type": "execute_result"
    }
   ],
   "source": [
    "calculate_llm_cost(t_in, t_out)"
   ]
  },
  {
   "cell_type": "markdown",
   "id": "6f241d60",
   "metadata": {},
   "source": [
    "### Inspect the output\n",
    "\n",
    "We'll provide the contents of the calendar PDF as grounding text."
   ]
  },
  {
   "cell_type": "code",
   "execution_count": 21,
   "id": "fe286be0",
   "metadata": {},
   "outputs": [],
   "source": [
    "import PyPDF2\n",
    "def extract_text_from_pdf(pdf_path):\n",
    "    \"\"\"Extract text from a PDF file.\"\"\"\n",
    "    with open(pdf_path, 'rb') as file:\n",
    "        reader = PyPDF2.PdfReader(file)\n",
    "        text = \"\"\n",
    "        for page in reader.pages:\n",
    "            text += page.extract_text()\n",
    "    return text"
   ]
  },
  {
   "cell_type": "code",
   "execution_count": 22,
   "id": "ff9e72af",
   "metadata": {},
   "outputs": [],
   "source": [
    "grounding_text = extract_text_from_pdf('calendar.pdf')"
   ]
  },
  {
   "cell_type": "code",
   "execution_count": 23,
   "id": "120b2883",
   "metadata": {},
   "outputs": [],
   "source": [
    "prompt_passed, prompt_message, gr_response = analyze_text(\n",
    "     query,\n",
    "     \"OUTPUT\", \n",
    "     r, \n",
    "     guardrail_id,\n",
    "     guardrail_version,\n",
    "     grounding_text)"
   ]
  },
  {
   "cell_type": "code",
   "execution_count": 24,
   "id": "07ba37c5",
   "metadata": {},
   "outputs": [
    {
     "name": "stdout",
     "output_type": "stream",
     "text": [
      "Prompt passed: True\n",
      "Guardrail message: \n"
     ]
    }
   ],
   "source": [
    "print(f\"Prompt passed: {prompt_passed}\")\n",
    "print(f\"Guardrail message: {prompt_message}\")"
   ]
  },
  {
   "cell_type": "code",
   "execution_count": 25,
   "id": "77b0a6cc",
   "metadata": {},
   "outputs": [
    {
     "data": {
      "text/plain": [
       "0.0025000000000000005"
      ]
     },
     "execution_count": 25,
     "metadata": {},
     "output_type": "execute_result"
    }
   ],
   "source": [
    "calculate_guardrail_cost(gr_response)"
   ]
  },
  {
   "cell_type": "markdown",
   "id": "b33cfdfb",
   "metadata": {},
   "source": [
    "## Conclusion\n",
    "\n",
    "This notebook adds a contextual grounding check to our chatbot.\n",
    "\n",
    "As written, the costs are:\n",
    "\n",
    "* LLM call - $0.0194616\n",
    "* Input guardrail - $0.00039999999999999996\n",
    "* Output guardrail - $0.0025000000000000005"
   ]
  },
  {
   "cell_type": "code",
   "execution_count": 26,
   "id": "19c2a83a",
   "metadata": {},
   "outputs": [
    {
     "data": {
      "image/png": "[encoded data removed]",
      "text/plain": [
       "<Figure size 800x600 with 1 Axes>"
      ]
     },
     "metadata": {},
     "output_type": "display_data"
    }
   ],
   "source": [
    "import matplotlib.pyplot as plt\n",
    "\n",
    "estimates = [0.0194616, 0.00039999999999999996, 0.0025000000000000005]  \n",
    "labels = [\"LLM\", \"Input guardrail\", \"Output guardrail\"]\n",
    "\n",
    "# Create the bar chart\n",
    "plt.figure(figsize=(8, 6))\n",
    "plt.bar(labels, estimates)\n",
    "\n",
    "# Customize the chart\n",
    "plt.title('Cost Estimates Comparison')\n",
    "plt.ylabel('Cost ($)')\n",
    "\n",
    "# Add value labels on top of each bar\n",
    "for i, v in enumerate(estimates):\n",
    "    plt.text(i, v, str(v), ha='center', va='bottom')\n",
    "\n",
    "# Display the chart\n",
    "plt.show()"
   ]
  },
  {
   "cell_type": "code",
   "execution_count": null,
   "id": "3fa58266",
   "metadata": {},
   "outputs": [],
   "source": []
  }
 ],
 "metadata": {
  "kernelspec": {
   "display_name": ".venv",
   "language": "python",
   "name": "python3"
  },
  "language_info": {
   "codemirror_mode": {
    "name": "ipython",
    "version": 3
   },
   "file_extension": ".py",
   "mimetype": "text/x-python",
   "name": "python",
   "nbconvert_exporter": "python",
   "pygments_lexer": "ipython3",
   "version": "3.13.0"
  }
 },
 "nbformat": 4,
 "nbformat_minor": 5
}
